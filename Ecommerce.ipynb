{
 "cells": [
  {
   "cell_type": "markdown",
   "metadata": {},
   "source": [
    "# CUSTOMER SEGMENTATION\n",
    "\n",
    "In today's world the variation in type pf customer can be far and wide and as such customers are always seeking personalised services.As a result, businesses need to be able to segment their customer base into clusters and tailor an experience for each customer segment. This is an area where machine learning and data science are beginnning to make a difference in the industry by understanding the different variants of customers and helping businesses offer more personalised services. Creating customer segments can help us communicate targeted marketing messages with a particular segment, identify the best communication channel for a segment, establish stronger relationships with customers and identify which set of customers are most profitable."
   ]
  },
  {
   "cell_type": "code",
   "execution_count": 58,
   "metadata": {},
   "outputs": [],
   "source": [
    "#Import pandas\n",
    "import pandas as pd\n",
    "from sklearn.feature_extraction.text import CountVectorizer\n",
    "from sklearn.cluster import KMeans\n",
    "from tqdm import tqdm\n",
    "from sklearn.preprocessing import StandardScaler\n",
    "from sklearn.cluster import KMeans\n",
    "from sklearn.metrics import silhouette_score\n",
    "import seaborn as sns\n",
    "import matplotlib.pyplot as plt"
   ]
  },
  {
   "cell_type": "code",
   "execution_count": 59,
   "metadata": {},
   "outputs": [
    {
     "data": {
      "text/html": [
       "<div>\n",
       "<style scoped>\n",
       "    .dataframe tbody tr th:only-of-type {\n",
       "        vertical-align: middle;\n",
       "    }\n",
       "\n",
       "    .dataframe tbody tr th {\n",
       "        vertical-align: top;\n",
       "    }\n",
       "\n",
       "    .dataframe thead th {\n",
       "        text-align: right;\n",
       "    }\n",
       "</style>\n",
       "<table border=\"1\" class=\"dataframe\">\n",
       "  <thead>\n",
       "    <tr style=\"text-align: right;\">\n",
       "      <th></th>\n",
       "      <th>InvoiceNo</th>\n",
       "      <th>StockCode</th>\n",
       "      <th>Description</th>\n",
       "      <th>Quantity</th>\n",
       "      <th>InvoiceDate</th>\n",
       "      <th>UnitPrice</th>\n",
       "      <th>CustomerID</th>\n",
       "      <th>Country</th>\n",
       "      <th>channel</th>\n",
       "    </tr>\n",
       "  </thead>\n",
       "  <tbody>\n",
       "    <tr>\n",
       "      <th>0</th>\n",
       "      <td>536365</td>\n",
       "      <td>85123A</td>\n",
       "      <td>WHITE HANGING HEART T-LIGHT HOLDER</td>\n",
       "      <td>6</td>\n",
       "      <td>12/1/10 8:26</td>\n",
       "      <td>2.55</td>\n",
       "      <td>17850.0</td>\n",
       "      <td>United Kingdom</td>\n",
       "      <td>Email</td>\n",
       "    </tr>\n",
       "    <tr>\n",
       "      <th>1</th>\n",
       "      <td>536365</td>\n",
       "      <td>71053</td>\n",
       "      <td>WHITE METAL LANTERN</td>\n",
       "      <td>6</td>\n",
       "      <td>12/1/10 8:26</td>\n",
       "      <td>3.39</td>\n",
       "      <td>17850.0</td>\n",
       "      <td>United Kingdom</td>\n",
       "      <td>Email</td>\n",
       "    </tr>\n",
       "    <tr>\n",
       "      <th>2</th>\n",
       "      <td>536365</td>\n",
       "      <td>84406B</td>\n",
       "      <td>CREAM CUPID HEARTS COAT HANGER</td>\n",
       "      <td>8</td>\n",
       "      <td>12/1/10 8:26</td>\n",
       "      <td>2.75</td>\n",
       "      <td>17850.0</td>\n",
       "      <td>United Kingdom</td>\n",
       "      <td>Email</td>\n",
       "    </tr>\n",
       "    <tr>\n",
       "      <th>3</th>\n",
       "      <td>536365</td>\n",
       "      <td>84029G</td>\n",
       "      <td>KNITTED UNION FLAG HOT WATER BOTTLE</td>\n",
       "      <td>6</td>\n",
       "      <td>12/1/10 8:26</td>\n",
       "      <td>3.39</td>\n",
       "      <td>17850.0</td>\n",
       "      <td>United Kingdom</td>\n",
       "      <td>Email</td>\n",
       "    </tr>\n",
       "    <tr>\n",
       "      <th>4</th>\n",
       "      <td>536365</td>\n",
       "      <td>84029E</td>\n",
       "      <td>RED WOOLLY HOTTIE WHITE HEART.</td>\n",
       "      <td>6</td>\n",
       "      <td>12/1/10 8:26</td>\n",
       "      <td>3.39</td>\n",
       "      <td>17850.0</td>\n",
       "      <td>United Kingdom</td>\n",
       "      <td>Email</td>\n",
       "    </tr>\n",
       "  </tbody>\n",
       "</table>\n",
       "</div>"
      ],
      "text/plain": [
       "  InvoiceNo StockCode                          Description  Quantity  \\\n",
       "0    536365    85123A   WHITE HANGING HEART T-LIGHT HOLDER         6   \n",
       "1    536365     71053                  WHITE METAL LANTERN         6   \n",
       "2    536365    84406B       CREAM CUPID HEARTS COAT HANGER         8   \n",
       "3    536365    84029G  KNITTED UNION FLAG HOT WATER BOTTLE         6   \n",
       "4    536365    84029E       RED WOOLLY HOTTIE WHITE HEART.         6   \n",
       "\n",
       "    InvoiceDate  UnitPrice  CustomerID         Country channel  \n",
       "0  12/1/10 8:26       2.55     17850.0  United Kingdom   Email  \n",
       "1  12/1/10 8:26       3.39     17850.0  United Kingdom   Email  \n",
       "2  12/1/10 8:26       2.75     17850.0  United Kingdom   Email  \n",
       "3  12/1/10 8:26       3.39     17850.0  United Kingdom   Email  \n",
       "4  12/1/10 8:26       3.39     17850.0  United Kingdom   Email  "
      ]
     },
     "execution_count": 59,
     "metadata": {},
     "output_type": "execute_result"
    }
   ],
   "source": [
    "#Load in ecommerce data\n",
    "df = pd.read_csv('ecommerce_data.csv', encoding='ISO-8859-1')\n",
    "df.head()"
   ]
  },
  {
   "cell_type": "code",
   "execution_count": 60,
   "metadata": {},
   "outputs": [
    {
     "data": {
      "text/plain": [
       "541909"
      ]
     },
     "execution_count": 60,
     "metadata": {},
     "output_type": "execute_result"
    }
   ],
   "source": [
    "#Check number of rows in dataset\n",
    "len(df)"
   ]
  },
  {
   "cell_type": "code",
   "execution_count": 61,
   "metadata": {},
   "outputs": [
    {
     "data": {
      "text/plain": [
       "4373"
      ]
     },
     "execution_count": 61,
     "metadata": {},
     "output_type": "execute_result"
    }
   ],
   "source": [
    "#Check the number of unique customers in the dataset\n",
    "len(df['CustomerID'].unique())"
   ]
  },
  {
   "cell_type": "code",
   "execution_count": 62,
   "metadata": {},
   "outputs": [
    {
     "data": {
      "text/plain": [
       "135080"
      ]
     },
     "execution_count": 62,
     "metadata": {},
     "output_type": "execute_result"
    }
   ],
   "source": [
    "#Calculate number of rows in data with null values\n",
    "len(df) - len(df.dropna())"
   ]
  },
  {
   "cell_type": "code",
   "execution_count": 63,
   "metadata": {},
   "outputs": [
    {
     "name": "stdout",
     "output_type": "stream",
     "text": [
      "InvoiceNo           0\n",
      "StockCode           0\n",
      "Description      1454\n",
      "Quantity            0\n",
      "InvoiceDate         0\n",
      "UnitPrice           0\n",
      "CustomerID     135080\n",
      "Country             0\n",
      "channel             0\n",
      "dtype: int64\n"
     ]
    }
   ],
   "source": [
    "#Check how many null values are present in every column\n",
    "print(df.isnull().sum())"
   ]
  },
  {
   "cell_type": "raw",
   "metadata": {},
   "source": [
    "Due to the nature of IDs, which are put on a linear scale (as numbers) but are inherently classes, imputing methods like averaging or taking a median won’t be ideal to replace null values athus i'll be dropping rows with na values."
   ]
  },
  {
   "cell_type": "code",
   "execution_count": 64,
   "metadata": {},
   "outputs": [
    {
     "data": {
      "text/html": [
       "<div>\n",
       "<style scoped>\n",
       "    .dataframe tbody tr th:only-of-type {\n",
       "        vertical-align: middle;\n",
       "    }\n",
       "\n",
       "    .dataframe tbody tr th {\n",
       "        vertical-align: top;\n",
       "    }\n",
       "\n",
       "    .dataframe thead th {\n",
       "        text-align: right;\n",
       "    }\n",
       "</style>\n",
       "<table border=\"1\" class=\"dataframe\">\n",
       "  <thead>\n",
       "    <tr style=\"text-align: right;\">\n",
       "      <th></th>\n",
       "      <th>InvoiceNo</th>\n",
       "      <th>StockCode</th>\n",
       "      <th>Description</th>\n",
       "      <th>Quantity</th>\n",
       "      <th>InvoiceDate</th>\n",
       "      <th>UnitPrice</th>\n",
       "      <th>CustomerID</th>\n",
       "      <th>Country</th>\n",
       "      <th>channel</th>\n",
       "    </tr>\n",
       "  </thead>\n",
       "  <tbody>\n",
       "    <tr>\n",
       "      <th>0</th>\n",
       "      <td>536365</td>\n",
       "      <td>85123A</td>\n",
       "      <td>WHITE HANGING HEART T-LIGHT HOLDER</td>\n",
       "      <td>6</td>\n",
       "      <td>12/1/10 8:26</td>\n",
       "      <td>2.55</td>\n",
       "      <td>17850.0</td>\n",
       "      <td>United Kingdom</td>\n",
       "      <td>Email</td>\n",
       "    </tr>\n",
       "    <tr>\n",
       "      <th>1</th>\n",
       "      <td>536365</td>\n",
       "      <td>71053</td>\n",
       "      <td>WHITE METAL LANTERN</td>\n",
       "      <td>6</td>\n",
       "      <td>12/1/10 8:26</td>\n",
       "      <td>3.39</td>\n",
       "      <td>17850.0</td>\n",
       "      <td>United Kingdom</td>\n",
       "      <td>Email</td>\n",
       "    </tr>\n",
       "    <tr>\n",
       "      <th>2</th>\n",
       "      <td>536365</td>\n",
       "      <td>84406B</td>\n",
       "      <td>CREAM CUPID HEARTS COAT HANGER</td>\n",
       "      <td>8</td>\n",
       "      <td>12/1/10 8:26</td>\n",
       "      <td>2.75</td>\n",
       "      <td>17850.0</td>\n",
       "      <td>United Kingdom</td>\n",
       "      <td>Email</td>\n",
       "    </tr>\n",
       "    <tr>\n",
       "      <th>3</th>\n",
       "      <td>536365</td>\n",
       "      <td>84029G</td>\n",
       "      <td>KNITTED UNION FLAG HOT WATER BOTTLE</td>\n",
       "      <td>6</td>\n",
       "      <td>12/1/10 8:26</td>\n",
       "      <td>3.39</td>\n",
       "      <td>17850.0</td>\n",
       "      <td>United Kingdom</td>\n",
       "      <td>Email</td>\n",
       "    </tr>\n",
       "    <tr>\n",
       "      <th>4</th>\n",
       "      <td>536365</td>\n",
       "      <td>84029E</td>\n",
       "      <td>RED WOOLLY HOTTIE WHITE HEART.</td>\n",
       "      <td>6</td>\n",
       "      <td>12/1/10 8:26</td>\n",
       "      <td>3.39</td>\n",
       "      <td>17850.0</td>\n",
       "      <td>United Kingdom</td>\n",
       "      <td>Email</td>\n",
       "    </tr>\n",
       "  </tbody>\n",
       "</table>\n",
       "</div>"
      ],
      "text/plain": [
       "  InvoiceNo StockCode                          Description  Quantity  \\\n",
       "0    536365    85123A   WHITE HANGING HEART T-LIGHT HOLDER         6   \n",
       "1    536365     71053                  WHITE METAL LANTERN         6   \n",
       "2    536365    84406B       CREAM CUPID HEARTS COAT HANGER         8   \n",
       "3    536365    84029G  KNITTED UNION FLAG HOT WATER BOTTLE         6   \n",
       "4    536365    84029E       RED WOOLLY HOTTIE WHITE HEART.         6   \n",
       "\n",
       "    InvoiceDate  UnitPrice  CustomerID         Country channel  \n",
       "0  12/1/10 8:26       2.55     17850.0  United Kingdom   Email  \n",
       "1  12/1/10 8:26       3.39     17850.0  United Kingdom   Email  \n",
       "2  12/1/10 8:26       2.75     17850.0  United Kingdom   Email  \n",
       "3  12/1/10 8:26       3.39     17850.0  United Kingdom   Email  \n",
       "4  12/1/10 8:26       3.39     17850.0  United Kingdom   Email  "
      ]
     },
     "execution_count": 64,
     "metadata": {},
     "output_type": "execute_result"
    }
   ],
   "source": [
    "#Drop all null values\n",
    "df = df.dropna()\n",
    "df.head()"
   ]
  },
  {
   "cell_type": "code",
   "execution_count": 65,
   "metadata": {},
   "outputs": [
    {
     "data": {
      "text/plain": [
       "406829"
      ]
     },
     "execution_count": 65,
     "metadata": {},
     "output_type": "execute_result"
    }
   ],
   "source": [
    "#Check number of rows after dropping all null values\n",
    "len(df)"
   ]
  },
  {
   "cell_type": "code",
   "execution_count": 66,
   "metadata": {},
   "outputs": [
    {
     "data": {
      "text/html": [
       "<div>\n",
       "<style scoped>\n",
       "    .dataframe tbody tr th:only-of-type {\n",
       "        vertical-align: middle;\n",
       "    }\n",
       "\n",
       "    .dataframe tbody tr th {\n",
       "        vertical-align: top;\n",
       "    }\n",
       "\n",
       "    .dataframe thead th {\n",
       "        text-align: right;\n",
       "    }\n",
       "</style>\n",
       "<table border=\"1\" class=\"dataframe\">\n",
       "  <thead>\n",
       "    <tr style=\"text-align: right;\">\n",
       "      <th></th>\n",
       "      <th>Description</th>\n",
       "      <th>Quantity</th>\n",
       "      <th>InvoiceDate</th>\n",
       "      <th>UnitPrice</th>\n",
       "      <th>CustomerID</th>\n",
       "      <th>Country</th>\n",
       "      <th>channel</th>\n",
       "    </tr>\n",
       "  </thead>\n",
       "  <tbody>\n",
       "    <tr>\n",
       "      <th>0</th>\n",
       "      <td>WHITE HANGING HEART T-LIGHT HOLDER</td>\n",
       "      <td>6</td>\n",
       "      <td>12/1/10 8:26</td>\n",
       "      <td>2.55</td>\n",
       "      <td>17850.0</td>\n",
       "      <td>United Kingdom</td>\n",
       "      <td>Email</td>\n",
       "    </tr>\n",
       "    <tr>\n",
       "      <th>1</th>\n",
       "      <td>WHITE METAL LANTERN</td>\n",
       "      <td>6</td>\n",
       "      <td>12/1/10 8:26</td>\n",
       "      <td>3.39</td>\n",
       "      <td>17850.0</td>\n",
       "      <td>United Kingdom</td>\n",
       "      <td>Email</td>\n",
       "    </tr>\n",
       "    <tr>\n",
       "      <th>2</th>\n",
       "      <td>CREAM CUPID HEARTS COAT HANGER</td>\n",
       "      <td>8</td>\n",
       "      <td>12/1/10 8:26</td>\n",
       "      <td>2.75</td>\n",
       "      <td>17850.0</td>\n",
       "      <td>United Kingdom</td>\n",
       "      <td>Email</td>\n",
       "    </tr>\n",
       "    <tr>\n",
       "      <th>3</th>\n",
       "      <td>KNITTED UNION FLAG HOT WATER BOTTLE</td>\n",
       "      <td>6</td>\n",
       "      <td>12/1/10 8:26</td>\n",
       "      <td>3.39</td>\n",
       "      <td>17850.0</td>\n",
       "      <td>United Kingdom</td>\n",
       "      <td>Email</td>\n",
       "    </tr>\n",
       "    <tr>\n",
       "      <th>4</th>\n",
       "      <td>RED WOOLLY HOTTIE WHITE HEART.</td>\n",
       "      <td>6</td>\n",
       "      <td>12/1/10 8:26</td>\n",
       "      <td>3.39</td>\n",
       "      <td>17850.0</td>\n",
       "      <td>United Kingdom</td>\n",
       "      <td>Email</td>\n",
       "    </tr>\n",
       "  </tbody>\n",
       "</table>\n",
       "</div>"
      ],
      "text/plain": [
       "                           Description  Quantity   InvoiceDate  UnitPrice  \\\n",
       "0   WHITE HANGING HEART T-LIGHT HOLDER         6  12/1/10 8:26       2.55   \n",
       "1                  WHITE METAL LANTERN         6  12/1/10 8:26       3.39   \n",
       "2       CREAM CUPID HEARTS COAT HANGER         8  12/1/10 8:26       2.75   \n",
       "3  KNITTED UNION FLAG HOT WATER BOTTLE         6  12/1/10 8:26       3.39   \n",
       "4       RED WOOLLY HOTTIE WHITE HEART.         6  12/1/10 8:26       3.39   \n",
       "\n",
       "   CustomerID         Country channel  \n",
       "0     17850.0  United Kingdom   Email  \n",
       "1     17850.0  United Kingdom   Email  \n",
       "2     17850.0  United Kingdom   Email  \n",
       "3     17850.0  United Kingdom   Email  \n",
       "4     17850.0  United Kingdom   Email  "
      ]
     },
     "execution_count": 66,
     "metadata": {},
     "output_type": "execute_result"
    }
   ],
   "source": [
    "#Drop Invoice number and Stock code column since they have no direct role in analysis\n",
    "df.drop(['InvoiceNo','StockCode'],axis=1,inplace=True)\n",
    "df.head()"
   ]
  },
  {
   "cell_type": "code",
   "execution_count": 67,
   "metadata": {},
   "outputs": [],
   "source": [
    "#write function to change description column from upper to lower case and remove punctuations\n",
    "import re\n",
    "def clean(Description):\n",
    "    return re.sub(r'[^\\w\\s]','',Description).lower()"
   ]
  },
  {
   "cell_type": "code",
   "execution_count": 68,
   "metadata": {},
   "outputs": [
    {
     "data": {
      "text/html": [
       "<div>\n",
       "<style scoped>\n",
       "    .dataframe tbody tr th:only-of-type {\n",
       "        vertical-align: middle;\n",
       "    }\n",
       "\n",
       "    .dataframe tbody tr th {\n",
       "        vertical-align: top;\n",
       "    }\n",
       "\n",
       "    .dataframe thead th {\n",
       "        text-align: right;\n",
       "    }\n",
       "</style>\n",
       "<table border=\"1\" class=\"dataframe\">\n",
       "  <thead>\n",
       "    <tr style=\"text-align: right;\">\n",
       "      <th></th>\n",
       "      <th>Description</th>\n",
       "      <th>Quantity</th>\n",
       "      <th>InvoiceDate</th>\n",
       "      <th>UnitPrice</th>\n",
       "      <th>CustomerID</th>\n",
       "      <th>Country</th>\n",
       "      <th>channel</th>\n",
       "    </tr>\n",
       "  </thead>\n",
       "  <tbody>\n",
       "    <tr>\n",
       "      <th>0</th>\n",
       "      <td>white hanging heart tlight holder</td>\n",
       "      <td>6</td>\n",
       "      <td>12/1/10 8:26</td>\n",
       "      <td>2.55</td>\n",
       "      <td>17850.0</td>\n",
       "      <td>United Kingdom</td>\n",
       "      <td>Email</td>\n",
       "    </tr>\n",
       "    <tr>\n",
       "      <th>1</th>\n",
       "      <td>white metal lantern</td>\n",
       "      <td>6</td>\n",
       "      <td>12/1/10 8:26</td>\n",
       "      <td>3.39</td>\n",
       "      <td>17850.0</td>\n",
       "      <td>United Kingdom</td>\n",
       "      <td>Email</td>\n",
       "    </tr>\n",
       "    <tr>\n",
       "      <th>2</th>\n",
       "      <td>cream cupid hearts coat hanger</td>\n",
       "      <td>8</td>\n",
       "      <td>12/1/10 8:26</td>\n",
       "      <td>2.75</td>\n",
       "      <td>17850.0</td>\n",
       "      <td>United Kingdom</td>\n",
       "      <td>Email</td>\n",
       "    </tr>\n",
       "    <tr>\n",
       "      <th>3</th>\n",
       "      <td>knitted union flag hot water bottle</td>\n",
       "      <td>6</td>\n",
       "      <td>12/1/10 8:26</td>\n",
       "      <td>3.39</td>\n",
       "      <td>17850.0</td>\n",
       "      <td>United Kingdom</td>\n",
       "      <td>Email</td>\n",
       "    </tr>\n",
       "    <tr>\n",
       "      <th>4</th>\n",
       "      <td>red woolly hottie white heart</td>\n",
       "      <td>6</td>\n",
       "      <td>12/1/10 8:26</td>\n",
       "      <td>3.39</td>\n",
       "      <td>17850.0</td>\n",
       "      <td>United Kingdom</td>\n",
       "      <td>Email</td>\n",
       "    </tr>\n",
       "  </tbody>\n",
       "</table>\n",
       "</div>"
      ],
      "text/plain": [
       "                           Description  Quantity   InvoiceDate  UnitPrice  \\\n",
       "0    white hanging heart tlight holder         6  12/1/10 8:26       2.55   \n",
       "1                  white metal lantern         6  12/1/10 8:26       3.39   \n",
       "2       cream cupid hearts coat hanger         8  12/1/10 8:26       2.75   \n",
       "3  knitted union flag hot water bottle         6  12/1/10 8:26       3.39   \n",
       "4        red woolly hottie white heart         6  12/1/10 8:26       3.39   \n",
       "\n",
       "   CustomerID         Country channel  \n",
       "0     17850.0  United Kingdom   Email  \n",
       "1     17850.0  United Kingdom   Email  \n",
       "2     17850.0  United Kingdom   Email  \n",
       "3     17850.0  United Kingdom   Email  \n",
       "4     17850.0  United Kingdom   Email  "
      ]
     },
     "execution_count": 68,
     "metadata": {},
     "output_type": "execute_result"
    }
   ],
   "source": [
    "#Clean Description column \n",
    "df['Description'] = df['Description'].apply(clean)\n",
    "df.head()"
   ]
  },
  {
   "cell_type": "code",
   "execution_count": 69,
   "metadata": {},
   "outputs": [],
   "source": [
    "#Reset index to re-arrange after dropping null values\n",
    "df = df.reset_index().drop('index',axis=1)"
   ]
  },
  {
   "cell_type": "code",
   "execution_count": 70,
   "metadata": {},
   "outputs": [
    {
     "data": {
      "text/html": [
       "<div>\n",
       "<style scoped>\n",
       "    .dataframe tbody tr th:only-of-type {\n",
       "        vertical-align: middle;\n",
       "    }\n",
       "\n",
       "    .dataframe tbody tr th {\n",
       "        vertical-align: top;\n",
       "    }\n",
       "\n",
       "    .dataframe thead th {\n",
       "        text-align: right;\n",
       "    }\n",
       "</style>\n",
       "<table border=\"1\" class=\"dataframe\">\n",
       "  <thead>\n",
       "    <tr style=\"text-align: right;\">\n",
       "      <th></th>\n",
       "      <th>Description</th>\n",
       "      <th>Quantity</th>\n",
       "      <th>InvoiceDate</th>\n",
       "      <th>UnitPrice</th>\n",
       "      <th>CustomerID</th>\n",
       "      <th>Country</th>\n",
       "      <th>channel</th>\n",
       "    </tr>\n",
       "  </thead>\n",
       "  <tbody>\n",
       "    <tr>\n",
       "      <th>0</th>\n",
       "      <td>white hanging heart tlight holder</td>\n",
       "      <td>6</td>\n",
       "      <td>12/1/10 8:26</td>\n",
       "      <td>2.55</td>\n",
       "      <td>17850.0</td>\n",
       "      <td>United Kingdom</td>\n",
       "      <td>Email</td>\n",
       "    </tr>\n",
       "    <tr>\n",
       "      <th>1</th>\n",
       "      <td>white metal lantern</td>\n",
       "      <td>6</td>\n",
       "      <td>12/1/10 8:26</td>\n",
       "      <td>3.39</td>\n",
       "      <td>17850.0</td>\n",
       "      <td>United Kingdom</td>\n",
       "      <td>Email</td>\n",
       "    </tr>\n",
       "    <tr>\n",
       "      <th>2</th>\n",
       "      <td>cream cupid hearts coat hanger</td>\n",
       "      <td>8</td>\n",
       "      <td>12/1/10 8:26</td>\n",
       "      <td>2.75</td>\n",
       "      <td>17850.0</td>\n",
       "      <td>United Kingdom</td>\n",
       "      <td>Email</td>\n",
       "    </tr>\n",
       "    <tr>\n",
       "      <th>3</th>\n",
       "      <td>knitted union flag hot water bottle</td>\n",
       "      <td>6</td>\n",
       "      <td>12/1/10 8:26</td>\n",
       "      <td>3.39</td>\n",
       "      <td>17850.0</td>\n",
       "      <td>United Kingdom</td>\n",
       "      <td>Email</td>\n",
       "    </tr>\n",
       "    <tr>\n",
       "      <th>4</th>\n",
       "      <td>red woolly hottie white heart</td>\n",
       "      <td>6</td>\n",
       "      <td>12/1/10 8:26</td>\n",
       "      <td>3.39</td>\n",
       "      <td>17850.0</td>\n",
       "      <td>United Kingdom</td>\n",
       "      <td>Email</td>\n",
       "    </tr>\n",
       "  </tbody>\n",
       "</table>\n",
       "</div>"
      ],
      "text/plain": [
       "                           Description  Quantity   InvoiceDate  UnitPrice  \\\n",
       "0    white hanging heart tlight holder         6  12/1/10 8:26       2.55   \n",
       "1                  white metal lantern         6  12/1/10 8:26       3.39   \n",
       "2       cream cupid hearts coat hanger         8  12/1/10 8:26       2.75   \n",
       "3  knitted union flag hot water bottle         6  12/1/10 8:26       3.39   \n",
       "4        red woolly hottie white heart         6  12/1/10 8:26       3.39   \n",
       "\n",
       "   CustomerID         Country channel  \n",
       "0     17850.0  United Kingdom   Email  \n",
       "1     17850.0  United Kingdom   Email  \n",
       "2     17850.0  United Kingdom   Email  \n",
       "3     17850.0  United Kingdom   Email  \n",
       "4     17850.0  United Kingdom   Email  "
      ]
     },
     "execution_count": 70,
     "metadata": {},
     "output_type": "execute_result"
    }
   ],
   "source": [
    "df.head()"
   ]
  },
  {
   "cell_type": "code",
   "execution_count": 71,
   "metadata": {},
   "outputs": [
    {
     "data": {
      "text/html": [
       "<div>\n",
       "<style scoped>\n",
       "    .dataframe tbody tr th:only-of-type {\n",
       "        vertical-align: middle;\n",
       "    }\n",
       "\n",
       "    .dataframe tbody tr th {\n",
       "        vertical-align: top;\n",
       "    }\n",
       "\n",
       "    .dataframe thead th {\n",
       "        text-align: right;\n",
       "    }\n",
       "</style>\n",
       "<table border=\"1\" class=\"dataframe\">\n",
       "  <thead>\n",
       "    <tr style=\"text-align: right;\">\n",
       "      <th></th>\n",
       "      <th>Description</th>\n",
       "      <th>Quantity</th>\n",
       "      <th>InvoiceDate</th>\n",
       "      <th>UnitPrice</th>\n",
       "      <th>CustomerID</th>\n",
       "      <th>Country</th>\n",
       "      <th>channel</th>\n",
       "      <th>Amount Total</th>\n",
       "    </tr>\n",
       "  </thead>\n",
       "  <tbody>\n",
       "    <tr>\n",
       "      <th>0</th>\n",
       "      <td>white hanging heart tlight holder</td>\n",
       "      <td>6</td>\n",
       "      <td>12/1/10 8:26</td>\n",
       "      <td>2.55</td>\n",
       "      <td>17850.0</td>\n",
       "      <td>United Kingdom</td>\n",
       "      <td>Email</td>\n",
       "      <td>15.30</td>\n",
       "    </tr>\n",
       "    <tr>\n",
       "      <th>1</th>\n",
       "      <td>white metal lantern</td>\n",
       "      <td>6</td>\n",
       "      <td>12/1/10 8:26</td>\n",
       "      <td>3.39</td>\n",
       "      <td>17850.0</td>\n",
       "      <td>United Kingdom</td>\n",
       "      <td>Email</td>\n",
       "      <td>20.34</td>\n",
       "    </tr>\n",
       "    <tr>\n",
       "      <th>2</th>\n",
       "      <td>cream cupid hearts coat hanger</td>\n",
       "      <td>8</td>\n",
       "      <td>12/1/10 8:26</td>\n",
       "      <td>2.75</td>\n",
       "      <td>17850.0</td>\n",
       "      <td>United Kingdom</td>\n",
       "      <td>Email</td>\n",
       "      <td>22.00</td>\n",
       "    </tr>\n",
       "    <tr>\n",
       "      <th>3</th>\n",
       "      <td>knitted union flag hot water bottle</td>\n",
       "      <td>6</td>\n",
       "      <td>12/1/10 8:26</td>\n",
       "      <td>3.39</td>\n",
       "      <td>17850.0</td>\n",
       "      <td>United Kingdom</td>\n",
       "      <td>Email</td>\n",
       "      <td>20.34</td>\n",
       "    </tr>\n",
       "    <tr>\n",
       "      <th>4</th>\n",
       "      <td>red woolly hottie white heart</td>\n",
       "      <td>6</td>\n",
       "      <td>12/1/10 8:26</td>\n",
       "      <td>3.39</td>\n",
       "      <td>17850.0</td>\n",
       "      <td>United Kingdom</td>\n",
       "      <td>Email</td>\n",
       "      <td>20.34</td>\n",
       "    </tr>\n",
       "  </tbody>\n",
       "</table>\n",
       "</div>"
      ],
      "text/plain": [
       "                           Description  Quantity   InvoiceDate  UnitPrice  \\\n",
       "0    white hanging heart tlight holder         6  12/1/10 8:26       2.55   \n",
       "1                  white metal lantern         6  12/1/10 8:26       3.39   \n",
       "2       cream cupid hearts coat hanger         8  12/1/10 8:26       2.75   \n",
       "3  knitted union flag hot water bottle         6  12/1/10 8:26       3.39   \n",
       "4        red woolly hottie white heart         6  12/1/10 8:26       3.39   \n",
       "\n",
       "   CustomerID         Country channel  Amount Total  \n",
       "0     17850.0  United Kingdom   Email         15.30  \n",
       "1     17850.0  United Kingdom   Email         20.34  \n",
       "2     17850.0  United Kingdom   Email         22.00  \n",
       "3     17850.0  United Kingdom   Email         20.34  \n",
       "4     17850.0  United Kingdom   Email         20.34  "
      ]
     },
     "execution_count": 71,
     "metadata": {},
     "output_type": "execute_result"
    }
   ],
   "source": [
    "#Calculate total amount spent by a customer on a product and put into new Column\n",
    "df['Amount Total'] = df['UnitPrice'] * df['Quantity']\n",
    "df.head()"
   ]
  },
  {
   "cell_type": "code",
   "execution_count": 72,
   "metadata": {},
   "outputs": [
    {
     "data": {
      "text/plain": [
       "<406829x2093 sparse matrix of type '<class 'numpy.int64'>'\n",
       "\twith 1640936 stored elements in Compressed Sparse Row format>"
      ]
     },
     "execution_count": 72,
     "metadata": {},
     "output_type": "execute_result"
    }
   ],
   "source": [
    "#Create a vectorizer with English stopwords and apply to dataset\n",
    "vectorizer = CountVectorizer(stop_words='english')\n",
    "descriptions = vectorizer.fit_transform(df['Description'])\n",
    "descriptions"
   ]
  },
  {
   "cell_type": "code",
   "execution_count": 73,
   "metadata": {},
   "outputs": [
    {
     "data": {
      "text/plain": [
       "KMeans(n_clusters=5)"
      ]
     },
     "execution_count": 73,
     "metadata": {},
     "output_type": "execute_result"
    }
   ],
   "source": [
    "#Create 5 clusters for the different products sold\n",
    "from sklearn.cluster import KMeans\n",
    "kmeans = KMeans(n_clusters=5)\n",
    "kmeans.fit(descriptions)"
   ]
  },
  {
   "cell_type": "code",
   "execution_count": 74,
   "metadata": {},
   "outputs": [
    {
     "data": {
      "text/html": [
       "<div>\n",
       "<style scoped>\n",
       "    .dataframe tbody tr th:only-of-type {\n",
       "        vertical-align: middle;\n",
       "    }\n",
       "\n",
       "    .dataframe tbody tr th {\n",
       "        vertical-align: top;\n",
       "    }\n",
       "\n",
       "    .dataframe thead th {\n",
       "        text-align: right;\n",
       "    }\n",
       "</style>\n",
       "<table border=\"1\" class=\"dataframe\">\n",
       "  <thead>\n",
       "    <tr style=\"text-align: right;\">\n",
       "      <th></th>\n",
       "      <th>Description</th>\n",
       "      <th>Quantity</th>\n",
       "      <th>InvoiceDate</th>\n",
       "      <th>UnitPrice</th>\n",
       "      <th>CustomerID</th>\n",
       "      <th>Country</th>\n",
       "      <th>channel</th>\n",
       "      <th>Amount Total</th>\n",
       "      <th>Product</th>\n",
       "    </tr>\n",
       "  </thead>\n",
       "  <tbody>\n",
       "    <tr>\n",
       "      <th>0</th>\n",
       "      <td>white hanging heart tlight holder</td>\n",
       "      <td>6</td>\n",
       "      <td>12/1/10 8:26</td>\n",
       "      <td>2.55</td>\n",
       "      <td>17850.0</td>\n",
       "      <td>United Kingdom</td>\n",
       "      <td>Email</td>\n",
       "      <td>15.30</td>\n",
       "      <td>2</td>\n",
       "    </tr>\n",
       "    <tr>\n",
       "      <th>1</th>\n",
       "      <td>white metal lantern</td>\n",
       "      <td>6</td>\n",
       "      <td>12/1/10 8:26</td>\n",
       "      <td>3.39</td>\n",
       "      <td>17850.0</td>\n",
       "      <td>United Kingdom</td>\n",
       "      <td>Email</td>\n",
       "      <td>20.34</td>\n",
       "      <td>2</td>\n",
       "    </tr>\n",
       "    <tr>\n",
       "      <th>2</th>\n",
       "      <td>cream cupid hearts coat hanger</td>\n",
       "      <td>8</td>\n",
       "      <td>12/1/10 8:26</td>\n",
       "      <td>2.75</td>\n",
       "      <td>17850.0</td>\n",
       "      <td>United Kingdom</td>\n",
       "      <td>Email</td>\n",
       "      <td>22.00</td>\n",
       "      <td>2</td>\n",
       "    </tr>\n",
       "    <tr>\n",
       "      <th>3</th>\n",
       "      <td>knitted union flag hot water bottle</td>\n",
       "      <td>6</td>\n",
       "      <td>12/1/10 8:26</td>\n",
       "      <td>3.39</td>\n",
       "      <td>17850.0</td>\n",
       "      <td>United Kingdom</td>\n",
       "      <td>Email</td>\n",
       "      <td>20.34</td>\n",
       "      <td>2</td>\n",
       "    </tr>\n",
       "    <tr>\n",
       "      <th>4</th>\n",
       "      <td>red woolly hottie white heart</td>\n",
       "      <td>6</td>\n",
       "      <td>12/1/10 8:26</td>\n",
       "      <td>3.39</td>\n",
       "      <td>17850.0</td>\n",
       "      <td>United Kingdom</td>\n",
       "      <td>Email</td>\n",
       "      <td>20.34</td>\n",
       "      <td>3</td>\n",
       "    </tr>\n",
       "  </tbody>\n",
       "</table>\n",
       "</div>"
      ],
      "text/plain": [
       "                           Description  Quantity   InvoiceDate  UnitPrice  \\\n",
       "0    white hanging heart tlight holder         6  12/1/10 8:26       2.55   \n",
       "1                  white metal lantern         6  12/1/10 8:26       3.39   \n",
       "2       cream cupid hearts coat hanger         8  12/1/10 8:26       2.75   \n",
       "3  knitted union flag hot water bottle         6  12/1/10 8:26       3.39   \n",
       "4        red woolly hottie white heart         6  12/1/10 8:26       3.39   \n",
       "\n",
       "   CustomerID         Country channel  Amount Total  Product  \n",
       "0     17850.0  United Kingdom   Email         15.30        2  \n",
       "1     17850.0  United Kingdom   Email         20.34        2  \n",
       "2     17850.0  United Kingdom   Email         22.00        2  \n",
       "3     17850.0  United Kingdom   Email         20.34        2  \n",
       "4     17850.0  United Kingdom   Email         20.34        3  "
      ]
     },
     "execution_count": 74,
     "metadata": {},
     "output_type": "execute_result"
    }
   ],
   "source": [
    "#Categorise products into the different clusters formed and create a new column Product with the cluster designation for each product\n",
    "df['Product'] = kmeans.labels_\n",
    "df.head()"
   ]
  },
  {
   "cell_type": "markdown",
   "metadata": {},
   "source": [
    "In order to better segment customers the dataset has to be transformed into one where each row represents a unique customer along with the product clusters to better associate customers to specific categories."
   ]
  },
  {
   "cell_type": "code",
   "execution_count": 75,
   "metadata": {},
   "outputs": [
    {
     "data": {
      "text/html": [
       "<div>\n",
       "<style scoped>\n",
       "    .dataframe tbody tr th:only-of-type {\n",
       "        vertical-align: middle;\n",
       "    }\n",
       "\n",
       "    .dataframe tbody tr th {\n",
       "        vertical-align: top;\n",
       "    }\n",
       "\n",
       "    .dataframe thead th {\n",
       "        text-align: right;\n",
       "    }\n",
       "</style>\n",
       "<table border=\"1\" class=\"dataframe\">\n",
       "  <thead>\n",
       "    <tr style=\"text-align: right;\">\n",
       "      <th></th>\n",
       "      <th>CustomerID</th>\n",
       "    </tr>\n",
       "  </thead>\n",
       "  <tbody>\n",
       "    <tr>\n",
       "      <th>0</th>\n",
       "      <td>17850.0</td>\n",
       "    </tr>\n",
       "    <tr>\n",
       "      <th>1</th>\n",
       "      <td>13047.0</td>\n",
       "    </tr>\n",
       "    <tr>\n",
       "      <th>2</th>\n",
       "      <td>12583.0</td>\n",
       "    </tr>\n",
       "    <tr>\n",
       "      <th>3</th>\n",
       "      <td>13748.0</td>\n",
       "    </tr>\n",
       "    <tr>\n",
       "      <th>4</th>\n",
       "      <td>15100.0</td>\n",
       "    </tr>\n",
       "  </tbody>\n",
       "</table>\n",
       "</div>"
      ],
      "text/plain": [
       "   CustomerID\n",
       "0     17850.0\n",
       "1     13047.0\n",
       "2     12583.0\n",
       "3     13748.0\n",
       "4     15100.0"
      ]
     },
     "execution_count": 75,
     "metadata": {},
     "output_type": "execute_result"
    }
   ],
   "source": [
    "#Create a dataframe with rows representing unique customers\n",
    "customers = pd.DataFrame({'CustomerID':df['CustomerID'].unique()})\n",
    "customers.head()"
   ]
  },
  {
   "cell_type": "code",
   "execution_count": 76,
   "metadata": {},
   "outputs": [
    {
     "data": {
      "text/html": [
       "<div>\n",
       "<style scoped>\n",
       "    .dataframe tbody tr th:only-of-type {\n",
       "        vertical-align: middle;\n",
       "    }\n",
       "\n",
       "    .dataframe tbody tr th {\n",
       "        vertical-align: top;\n",
       "    }\n",
       "\n",
       "    .dataframe thead th {\n",
       "        text-align: right;\n",
       "    }\n",
       "</style>\n",
       "<table border=\"1\" class=\"dataframe\">\n",
       "  <thead>\n",
       "    <tr style=\"text-align: right;\">\n",
       "      <th></th>\n",
       "      <th>CustomerID</th>\n",
       "      <th>Product0</th>\n",
       "      <th>Product1</th>\n",
       "      <th>Product2</th>\n",
       "      <th>Product3</th>\n",
       "      <th>Product4</th>\n",
       "    </tr>\n",
       "  </thead>\n",
       "  <tbody>\n",
       "    <tr>\n",
       "      <th>0</th>\n",
       "      <td>17850.0</td>\n",
       "      <td>0</td>\n",
       "      <td>0</td>\n",
       "      <td>0</td>\n",
       "      <td>0</td>\n",
       "      <td>0</td>\n",
       "    </tr>\n",
       "    <tr>\n",
       "      <th>1</th>\n",
       "      <td>13047.0</td>\n",
       "      <td>0</td>\n",
       "      <td>0</td>\n",
       "      <td>0</td>\n",
       "      <td>0</td>\n",
       "      <td>0</td>\n",
       "    </tr>\n",
       "    <tr>\n",
       "      <th>2</th>\n",
       "      <td>12583.0</td>\n",
       "      <td>0</td>\n",
       "      <td>0</td>\n",
       "      <td>0</td>\n",
       "      <td>0</td>\n",
       "      <td>0</td>\n",
       "    </tr>\n",
       "    <tr>\n",
       "      <th>3</th>\n",
       "      <td>13748.0</td>\n",
       "      <td>0</td>\n",
       "      <td>0</td>\n",
       "      <td>0</td>\n",
       "      <td>0</td>\n",
       "      <td>0</td>\n",
       "    </tr>\n",
       "    <tr>\n",
       "      <th>4</th>\n",
       "      <td>15100.0</td>\n",
       "      <td>0</td>\n",
       "      <td>0</td>\n",
       "      <td>0</td>\n",
       "      <td>0</td>\n",
       "      <td>0</td>\n",
       "    </tr>\n",
       "  </tbody>\n",
       "</table>\n",
       "</div>"
      ],
      "text/plain": [
       "   CustomerID  Product0  Product1  Product2  Product3  Product4\n",
       "0     17850.0         0         0         0         0         0\n",
       "1     13047.0         0         0         0         0         0\n",
       "2     12583.0         0         0         0         0         0\n",
       "3     13748.0         0         0         0         0         0\n",
       "4     15100.0         0         0         0         0         0"
      ]
     },
     "execution_count": 76,
     "metadata": {},
     "output_type": "execute_result"
    }
   ],
   "source": [
    "#Add columns of different product clusters\n",
    "customers['Product0'] = 0\n",
    "customers['Product1'] = 0\n",
    "customers['Product2'] = 0\n",
    "customers['Product3'] = 0\n",
    "customers['Product4'] = 0\n",
    "customers.head()"
   ]
  },
  {
   "cell_type": "code",
   "execution_count": 77,
   "metadata": {},
   "outputs": [
    {
     "name": "stderr",
     "output_type": "stream",
     "text": [
      "100%|██████████| 406829/406829 [04:12<00:00, 1611.46it/s]\n"
     ]
    }
   ],
   "source": [
    "#Create for each unique customer the total amount purchased in each product cluster\n",
    "for index in tqdm(range(len(df))):\n",
    "    customerID = df.loc[index,'CustomerID']\n",
    "    product_category = df.loc[index,'Product']\n",
    "    product_price = df.loc[index,'Amount Total']\n",
    "    customers_table_index = customers[customers['CustomerID']==customerID].index[0]\n",
    "    customers.loc[customers_table_index, 'Product'+str(product_category)] += product_price"
   ]
  },
  {
   "cell_type": "code",
   "execution_count": 78,
   "metadata": {},
   "outputs": [
    {
     "data": {
      "text/html": [
       "<div>\n",
       "<style scoped>\n",
       "    .dataframe tbody tr th:only-of-type {\n",
       "        vertical-align: middle;\n",
       "    }\n",
       "\n",
       "    .dataframe tbody tr th {\n",
       "        vertical-align: top;\n",
       "    }\n",
       "\n",
       "    .dataframe thead th {\n",
       "        text-align: right;\n",
       "    }\n",
       "</style>\n",
       "<table border=\"1\" class=\"dataframe\">\n",
       "  <thead>\n",
       "    <tr style=\"text-align: right;\">\n",
       "      <th></th>\n",
       "      <th>CustomerID</th>\n",
       "      <th>Product0</th>\n",
       "      <th>Product1</th>\n",
       "      <th>Product2</th>\n",
       "      <th>Product3</th>\n",
       "      <th>Product4</th>\n",
       "    </tr>\n",
       "  </thead>\n",
       "  <tbody>\n",
       "    <tr>\n",
       "      <th>0</th>\n",
       "      <td>17850.0</td>\n",
       "      <td>0.0</td>\n",
       "      <td>321.30</td>\n",
       "      <td>4119.17</td>\n",
       "      <td>848.16</td>\n",
       "      <td>0.00</td>\n",
       "    </tr>\n",
       "    <tr>\n",
       "      <th>1</th>\n",
       "      <td>13047.0</td>\n",
       "      <td>0.0</td>\n",
       "      <td>518.38</td>\n",
       "      <td>2484.67</td>\n",
       "      <td>43.05</td>\n",
       "      <td>33.00</td>\n",
       "    </tr>\n",
       "    <tr>\n",
       "      <th>2</th>\n",
       "      <td>12583.0</td>\n",
       "      <td>84.7</td>\n",
       "      <td>1373.34</td>\n",
       "      <td>3943.64</td>\n",
       "      <td>1411.54</td>\n",
       "      <td>374.12</td>\n",
       "    </tr>\n",
       "    <tr>\n",
       "      <th>3</th>\n",
       "      <td>13748.0</td>\n",
       "      <td>0.0</td>\n",
       "      <td>52.08</td>\n",
       "      <td>896.17</td>\n",
       "      <td>0.00</td>\n",
       "      <td>0.00</td>\n",
       "    </tr>\n",
       "    <tr>\n",
       "      <th>4</th>\n",
       "      <td>15100.0</td>\n",
       "      <td>0.0</td>\n",
       "      <td>0.00</td>\n",
       "      <td>635.10</td>\n",
       "      <td>0.00</td>\n",
       "      <td>0.00</td>\n",
       "    </tr>\n",
       "  </tbody>\n",
       "</table>\n",
       "</div>"
      ],
      "text/plain": [
       "   CustomerID  Product0  Product1  Product2  Product3  Product4\n",
       "0     17850.0       0.0    321.30   4119.17    848.16      0.00\n",
       "1     13047.0       0.0    518.38   2484.67     43.05     33.00\n",
       "2     12583.0      84.7   1373.34   3943.64   1411.54    374.12\n",
       "3     13748.0       0.0     52.08    896.17      0.00      0.00\n",
       "4     15100.0       0.0      0.00    635.10      0.00      0.00"
      ]
     },
     "execution_count": 78,
     "metadata": {},
     "output_type": "execute_result"
    }
   ],
   "source": [
    "customers.head()"
   ]
  },
  {
   "cell_type": "code",
   "execution_count": 79,
   "metadata": {},
   "outputs": [
    {
     "data": {
      "text/html": [
       "<div>\n",
       "<style scoped>\n",
       "    .dataframe tbody tr th:only-of-type {\n",
       "        vertical-align: middle;\n",
       "    }\n",
       "\n",
       "    .dataframe tbody tr th {\n",
       "        vertical-align: top;\n",
       "    }\n",
       "\n",
       "    .dataframe thead th {\n",
       "        text-align: right;\n",
       "    }\n",
       "</style>\n",
       "<table border=\"1\" class=\"dataframe\">\n",
       "  <thead>\n",
       "    <tr style=\"text-align: right;\">\n",
       "      <th></th>\n",
       "      <th>CustomerID</th>\n",
       "      <th>Product0</th>\n",
       "      <th>Product1</th>\n",
       "      <th>Product2</th>\n",
       "      <th>Product3</th>\n",
       "      <th>Product4</th>\n",
       "      <th>PurchaseCount</th>\n",
       "      <th>PurchaseMin</th>\n",
       "      <th>PurchaseMax</th>\n",
       "      <th>PurchaseMean</th>\n",
       "      <th>PurchaseSum</th>\n",
       "    </tr>\n",
       "  </thead>\n",
       "  <tbody>\n",
       "    <tr>\n",
       "      <th>0</th>\n",
       "      <td>17850.0</td>\n",
       "      <td>0.0</td>\n",
       "      <td>321.30</td>\n",
       "      <td>4119.17</td>\n",
       "      <td>848.16</td>\n",
       "      <td>0.00</td>\n",
       "      <td>0</td>\n",
       "      <td>0</td>\n",
       "      <td>0</td>\n",
       "      <td>0</td>\n",
       "      <td>0</td>\n",
       "    </tr>\n",
       "    <tr>\n",
       "      <th>1</th>\n",
       "      <td>13047.0</td>\n",
       "      <td>0.0</td>\n",
       "      <td>518.38</td>\n",
       "      <td>2484.67</td>\n",
       "      <td>43.05</td>\n",
       "      <td>33.00</td>\n",
       "      <td>0</td>\n",
       "      <td>0</td>\n",
       "      <td>0</td>\n",
       "      <td>0</td>\n",
       "      <td>0</td>\n",
       "    </tr>\n",
       "    <tr>\n",
       "      <th>2</th>\n",
       "      <td>12583.0</td>\n",
       "      <td>84.7</td>\n",
       "      <td>1373.34</td>\n",
       "      <td>3943.64</td>\n",
       "      <td>1411.54</td>\n",
       "      <td>374.12</td>\n",
       "      <td>0</td>\n",
       "      <td>0</td>\n",
       "      <td>0</td>\n",
       "      <td>0</td>\n",
       "      <td>0</td>\n",
       "    </tr>\n",
       "    <tr>\n",
       "      <th>3</th>\n",
       "      <td>13748.0</td>\n",
       "      <td>0.0</td>\n",
       "      <td>52.08</td>\n",
       "      <td>896.17</td>\n",
       "      <td>0.00</td>\n",
       "      <td>0.00</td>\n",
       "      <td>0</td>\n",
       "      <td>0</td>\n",
       "      <td>0</td>\n",
       "      <td>0</td>\n",
       "      <td>0</td>\n",
       "    </tr>\n",
       "    <tr>\n",
       "      <th>4</th>\n",
       "      <td>15100.0</td>\n",
       "      <td>0.0</td>\n",
       "      <td>0.00</td>\n",
       "      <td>635.10</td>\n",
       "      <td>0.00</td>\n",
       "      <td>0.00</td>\n",
       "      <td>0</td>\n",
       "      <td>0</td>\n",
       "      <td>0</td>\n",
       "      <td>0</td>\n",
       "      <td>0</td>\n",
       "    </tr>\n",
       "  </tbody>\n",
       "</table>\n",
       "</div>"
      ],
      "text/plain": [
       "   CustomerID  Product0  Product1  Product2  Product3  Product4  \\\n",
       "0     17850.0       0.0    321.30   4119.17    848.16      0.00   \n",
       "1     13047.0       0.0    518.38   2484.67     43.05     33.00   \n",
       "2     12583.0      84.7   1373.34   3943.64   1411.54    374.12   \n",
       "3     13748.0       0.0     52.08    896.17      0.00      0.00   \n",
       "4     15100.0       0.0      0.00    635.10      0.00      0.00   \n",
       "\n",
       "   PurchaseCount  PurchaseMin  PurchaseMax  PurchaseMean  PurchaseSum  \n",
       "0              0            0            0             0            0  \n",
       "1              0            0            0             0            0  \n",
       "2              0            0            0             0            0  \n",
       "3              0            0            0             0            0  \n",
       "4              0            0            0             0            0  "
      ]
     },
     "execution_count": 79,
     "metadata": {},
     "output_type": "execute_result"
    }
   ],
   "source": [
    "#create customer purchase history\n",
    "customers['PurchaseCount'] = 0\n",
    "customers['PurchaseMin'] = 0\n",
    "customers['PurchaseMax'] = 0\n",
    "customers['PurchaseMean'] = 0\n",
    "customers['PurchaseSum'] = 0\n",
    "customers.head()"
   ]
  },
  {
   "cell_type": "code",
   "execution_count": 80,
   "metadata": {},
   "outputs": [
    {
     "name": "stderr",
     "output_type": "stream",
     "text": [
      "100%|██████████| 4372/4372 [00:12<00:00, 357.89it/s]\n"
     ]
    }
   ],
   "source": [
    "from tqdm import tqdm\n",
    "for index in tqdm(range(len(customers))):\n",
    "    customerID = customers.loc[index,'CustomerID']\n",
    "    history = df[df['CustomerID']==customerID]['Amount Total']\n",
    "    customers.loc[index,'PurchaseCount'] = history.count()\n",
    "    customers.loc[index,'PurchaseMin'] = history.min()\n",
    "    customers.loc[index,'PurchaseMax'] = history.max()\n",
    "    customers.loc[index,'PurchaseMean'] = history.mean()\n",
    "    customers.loc[index,'PurchaseSum'] = history.sum()"
   ]
  },
  {
   "cell_type": "code",
   "execution_count": 81,
   "metadata": {},
   "outputs": [
    {
     "data": {
      "text/html": [
       "<div>\n",
       "<style scoped>\n",
       "    .dataframe tbody tr th:only-of-type {\n",
       "        vertical-align: middle;\n",
       "    }\n",
       "\n",
       "    .dataframe tbody tr th {\n",
       "        vertical-align: top;\n",
       "    }\n",
       "\n",
       "    .dataframe thead th {\n",
       "        text-align: right;\n",
       "    }\n",
       "</style>\n",
       "<table border=\"1\" class=\"dataframe\">\n",
       "  <thead>\n",
       "    <tr style=\"text-align: right;\">\n",
       "      <th></th>\n",
       "      <th>CustomerID</th>\n",
       "      <th>Product0</th>\n",
       "      <th>Product1</th>\n",
       "      <th>Product2</th>\n",
       "      <th>Product3</th>\n",
       "      <th>Product4</th>\n",
       "      <th>PurchaseCount</th>\n",
       "      <th>PurchaseMin</th>\n",
       "      <th>PurchaseMax</th>\n",
       "      <th>PurchaseMean</th>\n",
       "      <th>PurchaseSum</th>\n",
       "    </tr>\n",
       "  </thead>\n",
       "  <tbody>\n",
       "    <tr>\n",
       "      <th>0</th>\n",
       "      <td>17850.0</td>\n",
       "      <td>0.0</td>\n",
       "      <td>321.30</td>\n",
       "      <td>4119.17</td>\n",
       "      <td>848.16</td>\n",
       "      <td>0.00</td>\n",
       "      <td>312</td>\n",
       "      <td>-30.60</td>\n",
       "      <td>107.25</td>\n",
       "      <td>16.950737</td>\n",
       "      <td>5288.63</td>\n",
       "    </tr>\n",
       "    <tr>\n",
       "      <th>1</th>\n",
       "      <td>13047.0</td>\n",
       "      <td>0.0</td>\n",
       "      <td>518.38</td>\n",
       "      <td>2484.67</td>\n",
       "      <td>43.05</td>\n",
       "      <td>33.00</td>\n",
       "      <td>196</td>\n",
       "      <td>-15.00</td>\n",
       "      <td>68.00</td>\n",
       "      <td>15.709694</td>\n",
       "      <td>3079.10</td>\n",
       "    </tr>\n",
       "    <tr>\n",
       "      <th>2</th>\n",
       "      <td>12583.0</td>\n",
       "      <td>84.7</td>\n",
       "      <td>1373.34</td>\n",
       "      <td>3943.64</td>\n",
       "      <td>1411.54</td>\n",
       "      <td>374.12</td>\n",
       "      <td>251</td>\n",
       "      <td>-60.84</td>\n",
       "      <td>132.80</td>\n",
       "      <td>28.634821</td>\n",
       "      <td>7187.34</td>\n",
       "    </tr>\n",
       "    <tr>\n",
       "      <th>3</th>\n",
       "      <td>13748.0</td>\n",
       "      <td>0.0</td>\n",
       "      <td>52.08</td>\n",
       "      <td>896.17</td>\n",
       "      <td>0.00</td>\n",
       "      <td>0.00</td>\n",
       "      <td>28</td>\n",
       "      <td>9.36</td>\n",
       "      <td>204.00</td>\n",
       "      <td>33.866071</td>\n",
       "      <td>948.25</td>\n",
       "    </tr>\n",
       "    <tr>\n",
       "      <th>4</th>\n",
       "      <td>15100.0</td>\n",
       "      <td>0.0</td>\n",
       "      <td>0.00</td>\n",
       "      <td>635.10</td>\n",
       "      <td>0.00</td>\n",
       "      <td>0.00</td>\n",
       "      <td>6</td>\n",
       "      <td>-131.40</td>\n",
       "      <td>350.40</td>\n",
       "      <td>105.850000</td>\n",
       "      <td>635.10</td>\n",
       "    </tr>\n",
       "  </tbody>\n",
       "</table>\n",
       "</div>"
      ],
      "text/plain": [
       "   CustomerID  Product0  Product1  Product2  Product3  Product4  \\\n",
       "0     17850.0       0.0    321.30   4119.17    848.16      0.00   \n",
       "1     13047.0       0.0    518.38   2484.67     43.05     33.00   \n",
       "2     12583.0      84.7   1373.34   3943.64   1411.54    374.12   \n",
       "3     13748.0       0.0     52.08    896.17      0.00      0.00   \n",
       "4     15100.0       0.0      0.00    635.10      0.00      0.00   \n",
       "\n",
       "   PurchaseCount  PurchaseMin  PurchaseMax  PurchaseMean  PurchaseSum  \n",
       "0            312       -30.60       107.25     16.950737      5288.63  \n",
       "1            196       -15.00        68.00     15.709694      3079.10  \n",
       "2            251       -60.84       132.80     28.634821      7187.34  \n",
       "3             28         9.36       204.00     33.866071       948.25  \n",
       "4              6      -131.40       350.40    105.850000       635.10  "
      ]
     },
     "execution_count": 81,
     "metadata": {},
     "output_type": "execute_result"
    }
   ],
   "source": [
    "customers.head()"
   ]
  },
  {
   "cell_type": "code",
   "execution_count": 82,
   "metadata": {},
   "outputs": [],
   "source": [
    "customers['Foreign'] = 0"
   ]
  },
  {
   "cell_type": "code",
   "execution_count": 83,
   "metadata": {},
   "outputs": [
    {
     "name": "stderr",
     "output_type": "stream",
     "text": [
      "100%|██████████| 4372/4372 [00:08<00:00, 486.25it/s]\n"
     ]
    }
   ],
   "source": [
    "#Create column with representing customers from the United Kingdom and 0 for foreign customers\n",
    "for index in tqdm(range(len(customers))):\n",
    "    customerID = customers.loc[index,'CustomerID']\n",
    "    customerCountry = df[df['CustomerID']==customerID] .reset_index().loc[0,'Country']\n",
    "    if customerCountry == 'United Kingdom':\n",
    "        customers.loc[index,'Foreign'] = 1"
   ]
  },
  {
   "cell_type": "code",
   "execution_count": 84,
   "metadata": {},
   "outputs": [],
   "source": [
    "#Scale data to produce uniform clusters(prevent influence of outliers)\n",
    "from sklearn.preprocessing import StandardScaler\n",
    "scaler = StandardScaler()\n",
    "scaled_customers = scaler.fit_transform(customers)"
   ]
  },
  {
   "cell_type": "code",
   "execution_count": 85,
   "metadata": {},
   "outputs": [
    {
     "data": {
      "text/html": [
       "<div>\n",
       "<style scoped>\n",
       "    .dataframe tbody tr th:only-of-type {\n",
       "        vertical-align: middle;\n",
       "    }\n",
       "\n",
       "    .dataframe tbody tr th {\n",
       "        vertical-align: top;\n",
       "    }\n",
       "\n",
       "    .dataframe thead th {\n",
       "        text-align: right;\n",
       "    }\n",
       "</style>\n",
       "<table border=\"1\" class=\"dataframe\">\n",
       "  <thead>\n",
       "    <tr style=\"text-align: right;\">\n",
       "      <th></th>\n",
       "      <th>CustomerID</th>\n",
       "      <th>Product0</th>\n",
       "      <th>Product1</th>\n",
       "      <th>Product2</th>\n",
       "      <th>Product3</th>\n",
       "      <th>Product4</th>\n",
       "      <th>PurchaseCount</th>\n",
       "      <th>PurchaseMin</th>\n",
       "      <th>PurchaseMax</th>\n",
       "      <th>PurchaseMean</th>\n",
       "      <th>PurchaseSum</th>\n",
       "      <th>Foreign</th>\n",
       "    </tr>\n",
       "  </thead>\n",
       "  <tbody>\n",
       "    <tr>\n",
       "      <th>0</th>\n",
       "      <td>1.480857</td>\n",
       "      <td>-0.136003</td>\n",
       "      <td>0.113377</td>\n",
       "      <td>0.508482</td>\n",
       "      <td>0.646437</td>\n",
       "      <td>-0.146505</td>\n",
       "      <td>0.941929</td>\n",
       "      <td>0.019410</td>\n",
       "      <td>-0.027050</td>\n",
       "      <td>-0.093381</td>\n",
       "      <td>0.412510</td>\n",
       "      <td>0.326857</td>\n",
       "    </tr>\n",
       "    <tr>\n",
       "      <th>1</th>\n",
       "      <td>-1.308028</td>\n",
       "      <td>-0.136003</td>\n",
       "      <td>0.291646</td>\n",
       "      <td>0.215496</td>\n",
       "      <td>-0.155240</td>\n",
       "      <td>-0.100127</td>\n",
       "      <td>0.442886</td>\n",
       "      <td>0.024834</td>\n",
       "      <td>-0.040674</td>\n",
       "      <td>-0.103129</td>\n",
       "      <td>0.143658</td>\n",
       "      <td>0.326857</td>\n",
       "    </tr>\n",
       "    <tr>\n",
       "      <th>2</th>\n",
       "      <td>-1.577452</td>\n",
       "      <td>-0.037406</td>\n",
       "      <td>1.065000</td>\n",
       "      <td>0.477018</td>\n",
       "      <td>1.207414</td>\n",
       "      <td>0.379290</td>\n",
       "      <td>0.679501</td>\n",
       "      <td>0.008896</td>\n",
       "      <td>-0.018181</td>\n",
       "      <td>-0.001604</td>\n",
       "      <td>0.643541</td>\n",
       "      <td>-3.059443</td>\n",
       "    </tr>\n",
       "    <tr>\n",
       "      <th>3</th>\n",
       "      <td>-0.900989</td>\n",
       "      <td>-0.136003</td>\n",
       "      <td>-0.130145</td>\n",
       "      <td>-0.069245</td>\n",
       "      <td>-0.198106</td>\n",
       "      <td>-0.146505</td>\n",
       "      <td>-0.279865</td>\n",
       "      <td>0.033304</td>\n",
       "      <td>0.006533</td>\n",
       "      <td>0.039487</td>\n",
       "      <td>-0.115620</td>\n",
       "      <td>0.326857</td>\n",
       "    </tr>\n",
       "    <tr>\n",
       "      <th>4</th>\n",
       "      <td>-0.115944</td>\n",
       "      <td>-0.136003</td>\n",
       "      <td>-0.177254</td>\n",
       "      <td>-0.116042</td>\n",
       "      <td>-0.198106</td>\n",
       "      <td>-0.146505</td>\n",
       "      <td>-0.374511</td>\n",
       "      <td>-0.015637</td>\n",
       "      <td>0.057349</td>\n",
       "      <td>0.604912</td>\n",
       "      <td>-0.153723</td>\n",
       "      <td>0.326857</td>\n",
       "    </tr>\n",
       "    <tr>\n",
       "      <th>...</th>\n",
       "      <td>...</td>\n",
       "      <td>...</td>\n",
       "      <td>...</td>\n",
       "      <td>...</td>\n",
       "      <td>...</td>\n",
       "      <td>...</td>\n",
       "      <td>...</td>\n",
       "      <td>...</td>\n",
       "      <td>...</td>\n",
       "      <td>...</td>\n",
       "      <td>...</td>\n",
       "      <td>...</td>\n",
       "    </tr>\n",
       "    <tr>\n",
       "      <th>4367</th>\n",
       "      <td>-1.082153</td>\n",
       "      <td>-0.136003</td>\n",
       "      <td>-0.177254</td>\n",
       "      <td>-0.200677</td>\n",
       "      <td>-0.164301</td>\n",
       "      <td>-0.146505</td>\n",
       "      <td>-0.348699</td>\n",
       "      <td>0.033596</td>\n",
       "      <td>-0.055426</td>\n",
       "      <td>-0.097648</td>\n",
       "      <td>-0.207044</td>\n",
       "      <td>0.326857</td>\n",
       "    </tr>\n",
       "    <tr>\n",
       "      <th>4368</th>\n",
       "      <td>0.127931</td>\n",
       "      <td>-0.136003</td>\n",
       "      <td>-0.177254</td>\n",
       "      <td>-0.179927</td>\n",
       "      <td>-0.198106</td>\n",
       "      <td>-0.055434</td>\n",
       "      <td>-0.322886</td>\n",
       "      <td>0.033346</td>\n",
       "      <td>-0.052239</td>\n",
       "      <td>-0.076630</td>\n",
       "      <td>-0.189205</td>\n",
       "      <td>0.326857</td>\n",
       "    </tr>\n",
       "    <tr>\n",
       "      <th>4369</th>\n",
       "      <td>-1.162284</td>\n",
       "      <td>-0.136003</td>\n",
       "      <td>-0.177254</td>\n",
       "      <td>-0.165354</td>\n",
       "      <td>-0.198106</td>\n",
       "      <td>-0.146505</td>\n",
       "      <td>-0.391720</td>\n",
       "      <td>0.061343</td>\n",
       "      <td>0.029442</td>\n",
       "      <td>1.187352</td>\n",
       "      <td>-0.187197</td>\n",
       "      <td>0.326857</td>\n",
       "    </tr>\n",
       "    <tr>\n",
       "      <th>4370</th>\n",
       "      <td>-0.424272</td>\n",
       "      <td>-0.136003</td>\n",
       "      <td>-0.164726</td>\n",
       "      <td>-0.191903</td>\n",
       "      <td>-0.196463</td>\n",
       "      <td>-0.146505</td>\n",
       "      <td>-0.348699</td>\n",
       "      <td>0.030624</td>\n",
       "      <td>-0.021791</td>\n",
       "      <td>-0.077684</td>\n",
       "      <td>-0.203333</td>\n",
       "      <td>0.326857</td>\n",
       "    </tr>\n",
       "    <tr>\n",
       "      <th>4371</th>\n",
       "      <td>-1.501967</td>\n",
       "      <td>-0.101896</td>\n",
       "      <td>-0.154568</td>\n",
       "      <td>-0.116585</td>\n",
       "      <td>-0.114564</td>\n",
       "      <td>-0.036602</td>\n",
       "      <td>-0.236844</td>\n",
       "      <td>0.031802</td>\n",
       "      <td>-0.039390</td>\n",
       "      <td>-0.051125</td>\n",
       "      <td>-0.127751</td>\n",
       "      <td>-3.059443</td>\n",
       "    </tr>\n",
       "  </tbody>\n",
       "</table>\n",
       "<p>4372 rows × 12 columns</p>\n",
       "</div>"
      ],
      "text/plain": [
       "      CustomerID  Product0  Product1  Product2  Product3  Product4  \\\n",
       "0       1.480857 -0.136003  0.113377  0.508482  0.646437 -0.146505   \n",
       "1      -1.308028 -0.136003  0.291646  0.215496 -0.155240 -0.100127   \n",
       "2      -1.577452 -0.037406  1.065000  0.477018  1.207414  0.379290   \n",
       "3      -0.900989 -0.136003 -0.130145 -0.069245 -0.198106 -0.146505   \n",
       "4      -0.115944 -0.136003 -0.177254 -0.116042 -0.198106 -0.146505   \n",
       "...          ...       ...       ...       ...       ...       ...   \n",
       "4367   -1.082153 -0.136003 -0.177254 -0.200677 -0.164301 -0.146505   \n",
       "4368    0.127931 -0.136003 -0.177254 -0.179927 -0.198106 -0.055434   \n",
       "4369   -1.162284 -0.136003 -0.177254 -0.165354 -0.198106 -0.146505   \n",
       "4370   -0.424272 -0.136003 -0.164726 -0.191903 -0.196463 -0.146505   \n",
       "4371   -1.501967 -0.101896 -0.154568 -0.116585 -0.114564 -0.036602   \n",
       "\n",
       "      PurchaseCount  PurchaseMin  PurchaseMax  PurchaseMean  PurchaseSum  \\\n",
       "0          0.941929     0.019410    -0.027050     -0.093381     0.412510   \n",
       "1          0.442886     0.024834    -0.040674     -0.103129     0.143658   \n",
       "2          0.679501     0.008896    -0.018181     -0.001604     0.643541   \n",
       "3         -0.279865     0.033304     0.006533      0.039487    -0.115620   \n",
       "4         -0.374511    -0.015637     0.057349      0.604912    -0.153723   \n",
       "...             ...          ...          ...           ...          ...   \n",
       "4367      -0.348699     0.033596    -0.055426     -0.097648    -0.207044   \n",
       "4368      -0.322886     0.033346    -0.052239     -0.076630    -0.189205   \n",
       "4369      -0.391720     0.061343     0.029442      1.187352    -0.187197   \n",
       "4370      -0.348699     0.030624    -0.021791     -0.077684    -0.203333   \n",
       "4371      -0.236844     0.031802    -0.039390     -0.051125    -0.127751   \n",
       "\n",
       "       Foreign  \n",
       "0     0.326857  \n",
       "1     0.326857  \n",
       "2    -3.059443  \n",
       "3     0.326857  \n",
       "4     0.326857  \n",
       "...        ...  \n",
       "4367  0.326857  \n",
       "4368  0.326857  \n",
       "4369  0.326857  \n",
       "4370  0.326857  \n",
       "4371 -3.059443  \n",
       "\n",
       "[4372 rows x 12 columns]"
      ]
     },
     "execution_count": 85,
     "metadata": {},
     "output_type": "execute_result"
    }
   ],
   "source": [
    "scaled_customers = pd.DataFrame(scaled_customers, columns=customers.columns)\n",
    "scaled_customers"
   ]
  },
  {
   "cell_type": "code",
   "execution_count": 86,
   "metadata": {},
   "outputs": [],
   "source": [
    "#Create 6 K mean models to identify which number of clusters has the best silhouette score\n",
    "\n",
    "cluster_nums = [2,3,4,5,6,7]\n",
    "scores = []\n",
    "for cluster_num in cluster_nums:\n",
    "    kmeans = KMeans(cluster_num)\n",
    "    kmeans.fit(scaled_customers)\n",
    "    clusters = kmeans.predict(scaled_customers)\n",
    "    silhouette = silhouette_score(scaled_customers, clusters)\n",
    "    scores.append(silhouette)"
   ]
  },
  {
   "cell_type": "code",
   "execution_count": 87,
   "metadata": {},
   "outputs": [
    {
     "data": {
      "text/plain": [
       "<matplotlib.axes._subplots.AxesSubplot at 0x7fc966091eb0>"
      ]
     },
     "execution_count": 87,
     "metadata": {},
     "output_type": "execute_result"
    },
    {
     "data": {
      "image/png": "[encoded data removed]",
      "text/plain": [
       "<Figure size 432x288 with 1 Axes>"
      ]
     },
     "metadata": {},
     "output_type": "display_data"
    }
   ],
   "source": [
    "#Plot graph of cluster/silhouette score\n",
    "sns.set_style('whitegrid')\n",
    "plt.ylabel('Silhouette Score')\n",
    "plt.xlabel('Clusters')\n",
    "sns.lineplot(x=cluster_nums,y=scores)"
   ]
  },
  {
   "cell_type": "code",
   "execution_count": 88,
   "metadata": {},
   "outputs": [
    {
     "data": {
      "text/plain": [
       "KMeans(n_clusters=3)"
      ]
     },
     "execution_count": 88,
     "metadata": {},
     "output_type": "execute_result"
    }
   ],
   "source": [
    "kmeans = KMeans(3)\n",
    "kmeans.fit(scaled_customers)"
   ]
  },
  {
   "cell_type": "code",
   "execution_count": 89,
   "metadata": {},
   "outputs": [
    {
     "data": {
      "text/plain": [
       "array([[-4.31044124e-04, -1.16945403e-02, -3.12155902e-02,\n",
       "        -3.13992603e-02, -2.97773865e-02, -2.46848546e-02,\n",
       "        -1.11451936e-02,  1.42174581e-02, -1.50701050e-02,\n",
       "        -2.47250920e-03, -3.25116018e-02,  2.50466157e-03],\n",
       "       [ 1.73637008e-01,  7.31013960e+00,  1.94860129e+01,\n",
       "         1.96079624e+01,  1.85923744e+01,  1.54101730e+01,\n",
       "         7.00296290e+00, -4.99816459e-01,  1.05045720e+00,\n",
       "         1.57298034e+00,  2.03016112e+01, -1.60817143e+00],\n",
       "       [ 6.65617502e-01, -1.36003226e-01, -1.77254405e-01,\n",
       "        -2.29364718e-01, -1.98106073e-01, -1.46505455e-01,\n",
       "        -3.83115516e-01, -5.85462720e+01,  5.84127379e+01,\n",
       "        -2.20832251e-01, -2.30648122e-01,  3.26856915e-01]])"
      ]
     },
     "execution_count": 89,
     "metadata": {},
     "output_type": "execute_result"
    }
   ],
   "source": [
    "kmeans.cluster_centers_"
   ]
  },
  {
   "cell_type": "code",
   "execution_count": 90,
   "metadata": {},
   "outputs": [
    {
     "data": {
      "text/plain": [
       "<matplotlib.axes._subplots.AxesSubplot at 0x7fc966821730>"
      ]
     },
     "execution_count": 90,
     "metadata": {},
     "output_type": "execute_result"
    },
    {
     "data": {
      "image/png": "[encoded data removed]",
      "text/plain": [
       "<Figure size 1080x252 with 2 Axes>"
      ]
     },
     "metadata": {},
     "output_type": "display_data"
    }
   ],
   "source": [
    "plt.figure(figsize=(15,3.5))\n",
    "sns.heatmap(scaler.inverse_transform(kmeans.cluster_centers_)[:,0:11],annot=True,yticklabels=['Cluster 1','Cluster 2', 'Cluster 3'],xticklabels=scaled_customers.columns.drop('Foreign'))"
   ]
  },
  {
   "cell_type": "markdown",
   "metadata": {},
   "source": [
    "# BUSINESS INSIGHTS\n",
    "\n",
    "There are 3 customer segments\n",
    "Customer segment 1 buys evenly across all categories but purchases most from Product category 1. They purchase on average 90 times and returns at most $28 of its purchases. The average purchase amount in this category is $29. this seems to be a category with a stable customer base which frequently purchases from the company. They represent a good target for promotional and referral offers.\n",
    "\n",
    "Customer segment 2 purchases most from Product category 1 as well however they purchase more in quantity both in Product category one and all other categories. They purchase on average 1700 times and return at most $1500 of it's purchases. The average purchase amount in this group is $230. By looking into the most prominent vocabulary in each of the 5 product groups, we can get a feel for which product this customer segments buy more in which areas. They are the most frequent buyers and purchase items of the highest value and should be the primary focus for customer retention and marketing offers\n",
    "\n",
    "Customer segment 3 purchases the least amount of product with a few in Product category 1. They purchase on average 3 times and return a staggering amount of $120000. They purchase the least amount on average and likely represent the smallest number of customers. They potentially are first time customers and attention should be paid on ways to better retain them.\n",
    "\n",
    "Product Category 1 should also be emphasized more on the webpage since it's the category with the most purchases."
   ]
  },
  {
   "cell_type": "markdown",
   "metadata": {},
   "source": [
    "After segmenting customers, I am going build predictive models to try and predict the next time a customer is going to make a purchase. Having the ability to predict customers actions gives you the opportunity to give them personalised treatmemnt in a way they did not expect and can also help identify which customers are potentially going to churn. Knowing when next a customer will make a purchase also allows you to better allocate resources; Promotional offers can be targeted towards customers who will make a purchase very soon."
   ]
  },
  {
   "cell_type": "code",
   "execution_count": 91,
   "metadata": {},
   "outputs": [],
   "source": [
    "#import libraries\n",
    "from datetime import datetime, timedelta,date\n",
    "import pandas as pd\n",
    "%matplotlib inline\n",
    "from sklearn.metrics import classification_report,confusion_matrix\n",
    "import matplotlib.pyplot as plt\n",
    "import numpy as np\n",
    "import seaborn as sns\n",
    "from __future__ import division\n",
    "from sklearn.cluster import KMeans"
   ]
  },
  {
   "cell_type": "code",
   "execution_count": 92,
   "metadata": {},
   "outputs": [],
   "source": [
    "#do not show warnings\n",
    "import warnings\n",
    "warnings.filterwarnings(\"ignore\")"
   ]
  },
  {
   "cell_type": "code",
   "execution_count": 93,
   "metadata": {},
   "outputs": [],
   "source": [
    "#import plotly for visualization\n",
    "import chart_studio.plotly as py\n"
   ]
  },
  {
   "cell_type": "code",
   "execution_count": 94,
   "metadata": {},
   "outputs": [],
   "source": [
    "#import machine learning related libraries\n",
    "from sklearn.svm import SVC\n",
    "from sklearn.multioutput import MultiOutputClassifier\n",
    "from sklearn.ensemble import GradientBoostingClassifier\n",
    "from sklearn.tree import DecisionTreeClassifier\n",
    "from sklearn.neighbors import KNeighborsClassifier\n",
    "from sklearn.naive_bayes import GaussianNB\n",
    "from sklearn.ensemble import RandomForestClassifier\n",
    "from sklearn.linear_model import LogisticRegression\n",
    "import xgboost as xgb\n",
    "from sklearn.model_selection import KFold, cross_val_score, train_test_split"
   ]
  },
  {
   "cell_type": "code",
   "execution_count": 95,
   "metadata": {},
   "outputs": [],
   "source": [
    "#import the csv\n",
    "df_data = pd.read_csv('ecommerce_data.csv')\n",
    "\n",
    "#print first 10 rows\n",
    "df_data.head(10)\n",
    "\n",
    "#convert date field from string to datetime\n",
    "df_data['InvoiceDate'] = pd.to_datetime(df_data['InvoiceDate'])\n",
    "\n",
    "#create dataframe with uk data only\n",
    "df_uk = df_data.query(\"Country=='United Kingdom'\").reset_index(drop=True)"
   ]
  },
  {
   "cell_type": "code",
   "execution_count": 96,
   "metadata": {},
   "outputs": [],
   "source": [
    "df_6m = df_uk[(df_uk.InvoiceDate < '2011-09-01') & (df_uk.InvoiceDate >= '2011-03-01')].reset_index(drop=True)\n",
    "df_next = df_uk[(df_uk.InvoiceDate >= '2011-09-01') & (df_uk.InvoiceDate < '2011-12-01')].reset_index(drop=True)"
   ]
  },
  {
   "cell_type": "code",
   "execution_count": 97,
   "metadata": {},
   "outputs": [],
   "source": [
    "df_user = pd.DataFrame(df_6m['CustomerID'].unique())\n",
    "df_user.columns = ['CustomerID']"
   ]
  },
  {
   "cell_type": "code",
   "execution_count": 98,
   "metadata": {},
   "outputs": [],
   "source": [
    "#create a dataframe with customer id and first purchase date in tx_next\n",
    "df_next_first_purchase = df_next.groupby('CustomerID').InvoiceDate.min().reset_index()\n",
    "df_next_first_purchase.columns = ['CustomerID','MinPurchaseDate']\n",
    "\n",
    "#create a dataframe with customer id and last purchase date in tx_6m\n",
    "df_last_purchase = df_6m.groupby('CustomerID').InvoiceDate.max().reset_index()\n",
    "df_last_purchase.columns = ['CustomerID','MaxPurchaseDate']\n",
    "\n",
    "#merge two dataframes\n",
    "df_purchase_dates = pd.merge(df_last_purchase,df_next_first_purchase,on='CustomerID',how='left')\n",
    "\n",
    "#calculate the time difference in days:\n",
    "df_purchase_dates['NextPurchaseDay'] = (df_purchase_dates['MinPurchaseDate'] - df_purchase_dates['MaxPurchaseDate']).dt.days\n",
    "\n",
    "#merge with tx_user \n",
    "df_user = pd.merge(df_user, df_purchase_dates[['CustomerID','NextPurchaseDay']],on='CustomerID',how='left')\n",
    "\n",
    "#print tx_user\n",
    "df_user.head()\n",
    "\n",
    "#fill NA values with 999\n",
    "df_user = df_user.fillna(999)"
   ]
  },
  {
   "cell_type": "code",
   "execution_count": 99,
   "metadata": {},
   "outputs": [
    {
     "data": {
      "text/html": [
       "<div>\n",
       "<style scoped>\n",
       "    .dataframe tbody tr th:only-of-type {\n",
       "        vertical-align: middle;\n",
       "    }\n",
       "\n",
       "    .dataframe tbody tr th {\n",
       "        vertical-align: top;\n",
       "    }\n",
       "\n",
       "    .dataframe thead th {\n",
       "        text-align: right;\n",
       "    }\n",
       "</style>\n",
       "<table border=\"1\" class=\"dataframe\">\n",
       "  <thead>\n",
       "    <tr style=\"text-align: right;\">\n",
       "      <th></th>\n",
       "      <th>CustomerID</th>\n",
       "      <th>NextPurchaseDay</th>\n",
       "    </tr>\n",
       "  </thead>\n",
       "  <tbody>\n",
       "    <tr>\n",
       "      <th>0</th>\n",
       "      <td>14620.0</td>\n",
       "      <td>999.0</td>\n",
       "    </tr>\n",
       "    <tr>\n",
       "      <th>1</th>\n",
       "      <td>14740.0</td>\n",
       "      <td>999.0</td>\n",
       "    </tr>\n",
       "    <tr>\n",
       "      <th>2</th>\n",
       "      <td>13880.0</td>\n",
       "      <td>57.0</td>\n",
       "    </tr>\n",
       "    <tr>\n",
       "      <th>3</th>\n",
       "      <td>16462.0</td>\n",
       "      <td>111.0</td>\n",
       "    </tr>\n",
       "    <tr>\n",
       "      <th>4</th>\n",
       "      <td>17068.0</td>\n",
       "      <td>16.0</td>\n",
       "    </tr>\n",
       "  </tbody>\n",
       "</table>\n",
       "</div>"
      ],
      "text/plain": [
       "   CustomerID  NextPurchaseDay\n",
       "0     14620.0            999.0\n",
       "1     14740.0            999.0\n",
       "2     13880.0             57.0\n",
       "3     16462.0            111.0\n",
       "4     17068.0             16.0"
      ]
     },
     "execution_count": 99,
     "metadata": {},
     "output_type": "execute_result"
    }
   ],
   "source": [
    "df_user.head()"
   ]
  },
  {
   "cell_type": "code",
   "execution_count": 100,
   "metadata": {},
   "outputs": [],
   "source": [
    "#create a dataframe with CustomerID and Invoice Date\n",
    "df_day_order = df_6m[['CustomerID','InvoiceDate']]\n",
    "#convert Invoice Datetime to day\n",
    "df_day_order['InvoiceDay'] = df_6m['InvoiceDate'].dt.date\n",
    "df_day_order = df_day_order.sort_values(['CustomerID','InvoiceDate'])\n",
    "#drop duplicates\n",
    "df_day_order = df_day_order.drop_duplicates(subset=['CustomerID','InvoiceDay'],keep='first')"
   ]
  },
  {
   "cell_type": "code",
   "execution_count": 101,
   "metadata": {},
   "outputs": [],
   "source": [
    "#shifting last 3 purchase dates\n",
    "df_day_order['PrevInvoiceDate'] = df_day_order.groupby('CustomerID')['InvoiceDay'].shift(1)\n",
    "df_day_order['T2InvoiceDate'] = df_day_order.groupby('CustomerID')['InvoiceDay'].shift(2)\n",
    "df_day_order['T3InvoiceDate'] = df_day_order.groupby('CustomerID')['InvoiceDay'].shift(3)"
   ]
  },
  {
   "cell_type": "code",
   "execution_count": 102,
   "metadata": {},
   "outputs": [
    {
     "data": {
      "text/html": [
       "<div>\n",
       "<style scoped>\n",
       "    .dataframe tbody tr th:only-of-type {\n",
       "        vertical-align: middle;\n",
       "    }\n",
       "\n",
       "    .dataframe tbody tr th {\n",
       "        vertical-align: top;\n",
       "    }\n",
       "\n",
       "    .dataframe thead th {\n",
       "        text-align: right;\n",
       "    }\n",
       "</style>\n",
       "<table border=\"1\" class=\"dataframe\">\n",
       "  <thead>\n",
       "    <tr style=\"text-align: right;\">\n",
       "      <th></th>\n",
       "      <th>CustomerID</th>\n",
       "      <th>InvoiceDate</th>\n",
       "      <th>InvoiceDay</th>\n",
       "      <th>PrevInvoiceDate</th>\n",
       "      <th>T2InvoiceDate</th>\n",
       "      <th>T3InvoiceDate</th>\n",
       "    </tr>\n",
       "  </thead>\n",
       "  <tbody>\n",
       "    <tr>\n",
       "      <th>649</th>\n",
       "      <td>12747.0</td>\n",
       "      <td>2011-03-01 14:53:00</td>\n",
       "      <td>2011-03-01</td>\n",
       "      <td>NaN</td>\n",
       "      <td>NaN</td>\n",
       "      <td>NaN</td>\n",
       "    </tr>\n",
       "    <tr>\n",
       "      <th>65091</th>\n",
       "      <td>12747.0</td>\n",
       "      <td>2011-05-05 15:31:00</td>\n",
       "      <td>2011-05-05</td>\n",
       "      <td>2011-03-01</td>\n",
       "      <td>NaN</td>\n",
       "      <td>NaN</td>\n",
       "    </tr>\n",
       "    <tr>\n",
       "      <th>90473</th>\n",
       "      <td>12747.0</td>\n",
       "      <td>2011-05-25 09:57:00</td>\n",
       "      <td>2011-05-25</td>\n",
       "      <td>2011-05-05</td>\n",
       "      <td>2011-03-01</td>\n",
       "      <td>NaN</td>\n",
       "    </tr>\n",
       "    <tr>\n",
       "      <th>124699</th>\n",
       "      <td>12747.0</td>\n",
       "      <td>2011-06-28 10:06:00</td>\n",
       "      <td>2011-06-28</td>\n",
       "      <td>2011-05-25</td>\n",
       "      <td>2011-05-05</td>\n",
       "      <td>2011-03-01</td>\n",
       "    </tr>\n",
       "    <tr>\n",
       "      <th>184410</th>\n",
       "      <td>12747.0</td>\n",
       "      <td>2011-08-22 10:38:00</td>\n",
       "      <td>2011-08-22</td>\n",
       "      <td>2011-06-28</td>\n",
       "      <td>2011-05-25</td>\n",
       "      <td>2011-05-05</td>\n",
       "    </tr>\n",
       "  </tbody>\n",
       "</table>\n",
       "</div>"
      ],
      "text/plain": [
       "        CustomerID         InvoiceDate  InvoiceDay PrevInvoiceDate  \\\n",
       "649        12747.0 2011-03-01 14:53:00  2011-03-01             NaN   \n",
       "65091      12747.0 2011-05-05 15:31:00  2011-05-05      2011-03-01   \n",
       "90473      12747.0 2011-05-25 09:57:00  2011-05-25      2011-05-05   \n",
       "124699     12747.0 2011-06-28 10:06:00  2011-06-28      2011-05-25   \n",
       "184410     12747.0 2011-08-22 10:38:00  2011-08-22      2011-06-28   \n",
       "\n",
       "       T2InvoiceDate T3InvoiceDate  \n",
       "649              NaN           NaN  \n",
       "65091            NaN           NaN  \n",
       "90473     2011-03-01           NaN  \n",
       "124699    2011-05-05    2011-03-01  \n",
       "184410    2011-05-25    2011-05-05  "
      ]
     },
     "execution_count": 102,
     "metadata": {},
     "output_type": "execute_result"
    }
   ],
   "source": [
    "df_day_order.head()"
   ]
  },
  {
   "cell_type": "code",
   "execution_count": 103,
   "metadata": {},
   "outputs": [],
   "source": [
    "#Ctreate columns with the values of the difference between the last 3 purchases\n",
    "df_day_order['DayDiff'] = (df_day_order['InvoiceDay'] - df_day_order['PrevInvoiceDate']).dt.days\n",
    "df_day_order['DayDiff2'] = (df_day_order['InvoiceDay'] - df_day_order['T2InvoiceDate']).dt.days\n",
    "df_day_order['DayDiff3'] = (df_day_order['InvoiceDay'] - df_day_order['T3InvoiceDate']).dt.days"
   ]
  },
  {
   "cell_type": "code",
   "execution_count": 104,
   "metadata": {},
   "outputs": [
    {
     "data": {
      "text/html": [
       "<div>\n",
       "<style scoped>\n",
       "    .dataframe tbody tr th:only-of-type {\n",
       "        vertical-align: middle;\n",
       "    }\n",
       "\n",
       "    .dataframe tbody tr th {\n",
       "        vertical-align: top;\n",
       "    }\n",
       "\n",
       "    .dataframe thead th {\n",
       "        text-align: right;\n",
       "    }\n",
       "</style>\n",
       "<table border=\"1\" class=\"dataframe\">\n",
       "  <thead>\n",
       "    <tr style=\"text-align: right;\">\n",
       "      <th></th>\n",
       "      <th>CustomerID</th>\n",
       "      <th>InvoiceDate</th>\n",
       "      <th>InvoiceDay</th>\n",
       "      <th>PrevInvoiceDate</th>\n",
       "      <th>T2InvoiceDate</th>\n",
       "      <th>T3InvoiceDate</th>\n",
       "      <th>DayDiff</th>\n",
       "      <th>DayDiff2</th>\n",
       "      <th>DayDiff3</th>\n",
       "    </tr>\n",
       "  </thead>\n",
       "  <tbody>\n",
       "    <tr>\n",
       "      <th>649</th>\n",
       "      <td>12747.0</td>\n",
       "      <td>2011-03-01 14:53:00</td>\n",
       "      <td>2011-03-01</td>\n",
       "      <td>NaN</td>\n",
       "      <td>NaN</td>\n",
       "      <td>NaN</td>\n",
       "      <td>NaN</td>\n",
       "      <td>NaN</td>\n",
       "      <td>NaN</td>\n",
       "    </tr>\n",
       "    <tr>\n",
       "      <th>65091</th>\n",
       "      <td>12747.0</td>\n",
       "      <td>2011-05-05 15:31:00</td>\n",
       "      <td>2011-05-05</td>\n",
       "      <td>2011-03-01</td>\n",
       "      <td>NaN</td>\n",
       "      <td>NaN</td>\n",
       "      <td>65.0</td>\n",
       "      <td>NaN</td>\n",
       "      <td>NaN</td>\n",
       "    </tr>\n",
       "    <tr>\n",
       "      <th>90473</th>\n",
       "      <td>12747.0</td>\n",
       "      <td>2011-05-25 09:57:00</td>\n",
       "      <td>2011-05-25</td>\n",
       "      <td>2011-05-05</td>\n",
       "      <td>2011-03-01</td>\n",
       "      <td>NaN</td>\n",
       "      <td>20.0</td>\n",
       "      <td>85.0</td>\n",
       "      <td>NaN</td>\n",
       "    </tr>\n",
       "    <tr>\n",
       "      <th>124699</th>\n",
       "      <td>12747.0</td>\n",
       "      <td>2011-06-28 10:06:00</td>\n",
       "      <td>2011-06-28</td>\n",
       "      <td>2011-05-25</td>\n",
       "      <td>2011-05-05</td>\n",
       "      <td>2011-03-01</td>\n",
       "      <td>34.0</td>\n",
       "      <td>54.0</td>\n",
       "      <td>119.0</td>\n",
       "    </tr>\n",
       "    <tr>\n",
       "      <th>184410</th>\n",
       "      <td>12747.0</td>\n",
       "      <td>2011-08-22 10:38:00</td>\n",
       "      <td>2011-08-22</td>\n",
       "      <td>2011-06-28</td>\n",
       "      <td>2011-05-25</td>\n",
       "      <td>2011-05-05</td>\n",
       "      <td>55.0</td>\n",
       "      <td>89.0</td>\n",
       "      <td>109.0</td>\n",
       "    </tr>\n",
       "  </tbody>\n",
       "</table>\n",
       "</div>"
      ],
      "text/plain": [
       "        CustomerID         InvoiceDate  InvoiceDay PrevInvoiceDate  \\\n",
       "649        12747.0 2011-03-01 14:53:00  2011-03-01             NaN   \n",
       "65091      12747.0 2011-05-05 15:31:00  2011-05-05      2011-03-01   \n",
       "90473      12747.0 2011-05-25 09:57:00  2011-05-25      2011-05-05   \n",
       "124699     12747.0 2011-06-28 10:06:00  2011-06-28      2011-05-25   \n",
       "184410     12747.0 2011-08-22 10:38:00  2011-08-22      2011-06-28   \n",
       "\n",
       "       T2InvoiceDate T3InvoiceDate  DayDiff  DayDiff2  DayDiff3  \n",
       "649              NaN           NaN      NaN       NaN       NaN  \n",
       "65091            NaN           NaN     65.0       NaN       NaN  \n",
       "90473     2011-03-01           NaN     20.0      85.0       NaN  \n",
       "124699    2011-05-05    2011-03-01     34.0      54.0     119.0  \n",
       "184410    2011-05-25    2011-05-05     55.0      89.0     109.0  "
      ]
     },
     "execution_count": 104,
     "metadata": {},
     "output_type": "execute_result"
    }
   ],
   "source": [
    "df_day_order.head(5)"
   ]
  },
  {
   "cell_type": "code",
   "execution_count": 105,
   "metadata": {},
   "outputs": [],
   "source": [
    "#find out the mean and standard deviation of the difference between purchases in days for each customer ID\n",
    "df_day_diff = df_day_order.groupby('CustomerID').agg({'DayDiff': ['mean','std']}).reset_index()\n",
    "df_day_diff.columns = ['CustomerID', 'DayDiffMean','DayDiffStd']"
   ]
  },
  {
   "cell_type": "code",
   "execution_count": 106,
   "metadata": {},
   "outputs": [],
   "source": [
    "#Drop all customers who have < 3 purchases\n",
    "df_day_order_last = df_day_order.drop_duplicates(subset=['CustomerID'],keep='last')"
   ]
  },
  {
   "cell_type": "code",
   "execution_count": 107,
   "metadata": {},
   "outputs": [],
   "source": [
    "df_day_order_last = df_day_order_last.dropna()\n",
    "df_day_order_last = pd.merge(df_day_order_last, df_day_diff, on='CustomerID')\n",
    "df_user = pd.merge(df_user, df_day_order_last[['CustomerID','DayDiff','DayDiff2','DayDiff3','DayDiffMean','DayDiffStd']], on='CustomerID')\n",
    "#create df_class as a copy of df_user before applying get_dummies to convert categorical columns\n",
    "df_class = df_user.copy()\n",
    "df_class = pd.get_dummies(df_class)"
   ]
  },
  {
   "cell_type": "code",
   "execution_count": 108,
   "metadata": {},
   "outputs": [
    {
     "data": {
      "text/html": [
       "<div>\n",
       "<style scoped>\n",
       "    .dataframe tbody tr th:only-of-type {\n",
       "        vertical-align: middle;\n",
       "    }\n",
       "\n",
       "    .dataframe tbody tr th {\n",
       "        vertical-align: top;\n",
       "    }\n",
       "\n",
       "    .dataframe thead th {\n",
       "        text-align: right;\n",
       "    }\n",
       "</style>\n",
       "<table border=\"1\" class=\"dataframe\">\n",
       "  <thead>\n",
       "    <tr style=\"text-align: right;\">\n",
       "      <th></th>\n",
       "      <th>CustomerID</th>\n",
       "      <th>NextPurchaseDay</th>\n",
       "      <th>DayDiff</th>\n",
       "      <th>DayDiff2</th>\n",
       "      <th>DayDiff3</th>\n",
       "      <th>DayDiffMean</th>\n",
       "      <th>DayDiffStd</th>\n",
       "    </tr>\n",
       "  </thead>\n",
       "  <tbody>\n",
       "    <tr>\n",
       "      <th>0</th>\n",
       "      <td>14740.0</td>\n",
       "      <td>999.0</td>\n",
       "      <td>6.0</td>\n",
       "      <td>34.0</td>\n",
       "      <td>92.0</td>\n",
       "      <td>30.666667</td>\n",
       "      <td>26.102363</td>\n",
       "    </tr>\n",
       "    <tr>\n",
       "      <th>1</th>\n",
       "      <td>13880.0</td>\n",
       "      <td>57.0</td>\n",
       "      <td>41.0</td>\n",
       "      <td>72.0</td>\n",
       "      <td>93.0</td>\n",
       "      <td>34.500000</td>\n",
       "      <td>10.754844</td>\n",
       "    </tr>\n",
       "    <tr>\n",
       "      <th>2</th>\n",
       "      <td>17068.0</td>\n",
       "      <td>16.0</td>\n",
       "      <td>25.0</td>\n",
       "      <td>37.0</td>\n",
       "      <td>38.0</td>\n",
       "      <td>17.300000</td>\n",
       "      <td>11.045864</td>\n",
       "    </tr>\n",
       "    <tr>\n",
       "      <th>3</th>\n",
       "      <td>12971.0</td>\n",
       "      <td>8.0</td>\n",
       "      <td>3.0</td>\n",
       "      <td>7.0</td>\n",
       "      <td>19.0</td>\n",
       "      <td>5.333333</td>\n",
       "      <td>3.619968</td>\n",
       "    </tr>\n",
       "    <tr>\n",
       "      <th>4</th>\n",
       "      <td>16915.0</td>\n",
       "      <td>83.0</td>\n",
       "      <td>41.0</td>\n",
       "      <td>121.0</td>\n",
       "      <td>156.0</td>\n",
       "      <td>52.000000</td>\n",
       "      <td>24.433583</td>\n",
       "    </tr>\n",
       "  </tbody>\n",
       "</table>\n",
       "</div>"
      ],
      "text/plain": [
       "   CustomerID  NextPurchaseDay  DayDiff  DayDiff2  DayDiff3  DayDiffMean  \\\n",
       "0     14740.0            999.0      6.0      34.0      92.0    30.666667   \n",
       "1     13880.0             57.0     41.0      72.0      93.0    34.500000   \n",
       "2     17068.0             16.0     25.0      37.0      38.0    17.300000   \n",
       "3     12971.0              8.0      3.0       7.0      19.0     5.333333   \n",
       "4     16915.0             83.0     41.0     121.0     156.0    52.000000   \n",
       "\n",
       "   DayDiffStd  \n",
       "0   26.102363  \n",
       "1   10.754844  \n",
       "2   11.045864  \n",
       "3    3.619968  \n",
       "4   24.433583  "
      ]
     },
     "execution_count": 108,
     "metadata": {},
     "output_type": "execute_result"
    }
   ],
   "source": [
    "df_class.head()"
   ]
  },
  {
   "cell_type": "markdown",
   "metadata": {},
   "source": [
    "In order to choose a model, I have to categorise our customers based on their purchase frequency. I am going to do this first looking at the 25,50 and 75th percentiles of Next purchase day for each customer and use this as a guide to form classes"
   ]
  },
  {
   "cell_type": "code",
   "execution_count": 109,
   "metadata": {},
   "outputs": [
    {
     "data": {
      "text/plain": [
       "count    623.000000\n",
       "mean     176.390048\n",
       "std      326.482713\n",
       "min        0.000000\n",
       "25%       24.500000\n",
       "50%       47.000000\n",
       "75%       87.000000\n",
       "max      999.000000\n",
       "Name: NextPurchaseDay, dtype: float64"
      ]
     },
     "execution_count": 109,
     "metadata": {},
     "output_type": "execute_result"
    }
   ],
   "source": [
    "df_user.NextPurchaseDay.describe()"
   ]
  },
  {
   "cell_type": "markdown",
   "metadata": {},
   "source": [
    "Based on the percentiles above, 3 classes are formed namely; Customers who purchase in 0-20 days, customers who purchase in 21-49 days and customers in 50 days or more"
   ]
  },
  {
   "cell_type": "code",
   "execution_count": 110,
   "metadata": {},
   "outputs": [],
   "source": [
    "#Categorise customers based on purchase frequency\n",
    "df_class['NextPurchaseDayRange'] = 2\n",
    "df_class.loc[df_class.NextPurchaseDay>20,'NextPurchaseDayRange'] = 1\n",
    "df_class.loc[df_class.NextPurchaseDay>50,'NextPurchaseDayRange'] = 0"
   ]
  },
  {
   "cell_type": "code",
   "execution_count": 111,
   "metadata": {},
   "outputs": [
    {
     "data": {
      "text/plain": [
       "<matplotlib.axes._subplots.AxesSubplot at 0x7fc985781b20>"
      ]
     },
     "execution_count": 111,
     "metadata": {},
     "output_type": "execute_result"
    },
    {
     "data": {
      "image/png": "[encoded data removed]",
      "text/plain": [
       "<Figure size 2160x1440 with 2 Axes>"
      ]
     },
     "metadata": {
      "needs_background": "light"
     },
     "output_type": "display_data"
    }
   ],
   "source": [
    "#Find correlation of variables\n",
    "corr = df_class[df_class.columns].corr()\n",
    "plt.figure(figsize = (30,20))\n",
    "sns.heatmap(corr, annot = True, linewidths=0.2, fmt=\".2f\")"
   ]
  },
  {
   "cell_type": "code",
   "execution_count": 112,
   "metadata": {},
   "outputs": [
    {
     "name": "stdout",
     "output_type": "stream",
     "text": [
      "LR [0.46184739 0.4939759 ]\n",
      "NB [0.48995984 0.3253012 ]\n",
      "RF [0.38955823 0.45381526]\n",
      "SVC [0.4497992  0.54618474]\n",
      "Dtree [0.33333333 0.31726908]\n",
      "XGB [0.38554217 0.45783133]\n",
      "KNN [0.37751004 0.42971888]\n"
     ]
    }
   ],
   "source": [
    "#train & test split\n",
    "df_class = df_class.drop('NextPurchaseDay',axis=1)\n",
    "X, y = df_class.drop('NextPurchaseDayRange',axis=1), df_class.NextPurchaseDayRange\n",
    "X_train, X_test, y_train, y_test = train_test_split(X, y, test_size=0.2, random_state=44)\n",
    "\n",
    "#create an array of models\n",
    "models = []\n",
    "models.append((\"LR\",LogisticRegression()))\n",
    "models.append((\"NB\",GaussianNB()))\n",
    "models.append((\"RF\",RandomForestClassifier()))\n",
    "models.append((\"SVC\",SVC()))\n",
    "models.append((\"Dtree\",DecisionTreeClassifier()))\n",
    "models.append((\"XGB\",xgb.XGBClassifier()))\n",
    "models.append((\"KNN\",KNeighborsClassifier()))\n",
    "\n",
    "#measure the accuracy \n",
    "for name,model in models:\n",
    "    kfold = KFold(n_splits=2, random_state=22)\n",
    "    cv_result = cross_val_score(model,X_train,y_train, cv = kfold,scoring = \"accuracy\")\n",
    "    print(name, cv_result)"
   ]
  },
  {
   "cell_type": "code",
   "execution_count": 113,
   "metadata": {},
   "outputs": [
    {
     "name": "stdout",
     "output_type": "stream",
     "text": [
      "Accuracy of NB classifier on training set: 0.44\n",
      "Accuracy of NB classifier on test set: 0.47\n"
     ]
    }
   ],
   "source": [
    "NB_model = GaussianNB().fit(X_train, y_train)\n",
    "print('Accuracy of NB classifier on training set: {:.2f}'\n",
    "       .format(NB_model.score(X_train, y_train)))\n",
    "print('Accuracy of NB classifier on test set: {:.2f}'\n",
    "       .format(NB_model.score(X_test[X_train.columns], y_test)))"
   ]
  },
  {
   "cell_type": "code",
   "execution_count": 114,
   "metadata": {},
   "outputs": [
    {
     "name": "stdout",
     "output_type": "stream",
     "text": [
      "Accuracy of LR classifier on training set: 0.52\n",
      "Accuracy of LR classifier on test set: 0.42\n"
     ]
    }
   ],
   "source": [
    "LR_model = LogisticRegression().fit(X_train, y_train)\n",
    "print('Accuracy of LR classifier on training set: {:.2f}'\n",
    "       .format(LR_model.score(X_train, y_train)))\n",
    "print('Accuracy of LR classifier on test set: {:.2f}'\n",
    "       .format(LR_model.score(X_test[X_train.columns], y_test)))"
   ]
  },
  {
   "cell_type": "code",
   "execution_count": 115,
   "metadata": {},
   "outputs": [
    {
     "name": "stdout",
     "output_type": "stream",
     "text": [
      "Accuracy of SVC classifier on training set: 0.50\n",
      "Accuracy of SVC classifier on test set: 0.38\n"
     ]
    }
   ],
   "source": [
    "SVC_model = SVC().fit(X_train, y_train)\n",
    "print('Accuracy of SVC classifier on training set: {:.2f}'\n",
    "       .format(SVC_model.score(X_train, y_train)))\n",
    "print('Accuracy of SVC classifier on test set: {:.2f}'\n",
    "       .format(SVC_model.score(X_test[X_train.columns], y_test)))"
   ]
  },
  {
   "cell_type": "code",
   "execution_count": 116,
   "metadata": {},
   "outputs": [
    {
     "name": "stdout",
     "output_type": "stream",
     "text": [
      "Accuracy of XGB classifier on training set: 1.00\n",
      "Accuracy of XGB classifier on test set: 0.39\n"
     ]
    }
   ],
   "source": [
    "xgb_model = xgb.XGBClassifier().fit(X_train, y_train)\n",
    "print('Accuracy of XGB classifier on training set: {:.2f}'\n",
    "       .format(xgb_model.score(X_train, y_train)))\n",
    "print('Accuracy of XGB classifier on test set: {:.2f}'\n",
    "       .format(xgb_model.score(X_test[X_train.columns], y_test)))"
   ]
  },
  {
   "cell_type": "code",
   "execution_count": 119,
   "metadata": {},
   "outputs": [
    {
     "name": "stdout",
     "output_type": "stream",
     "text": [
      "Accuracy of LR classifier on training set: 0.53\n",
      "Accuracy of LR classifier on test set: 0.44\n"
     ]
    }
   ],
   "source": [
    "LR_model = LogisticRegression(max_iter = 200).fit(X_train, y_train)\n",
    "print('Accuracy of LR classifier on training set: {:.2f}'\n",
    "       .format(LR_model.score(X_train, y_train)))\n",
    "print('Accuracy of LR classifier on test set: {:.2f}'\n",
    "       .format(LR_model.score(X_test[X_train.columns], y_test)))"
   ]
  },
  {
   "cell_type": "code",
   "execution_count": 121,
   "metadata": {},
   "outputs": [
    {
     "name": "stdout",
     "output_type": "stream",
     "text": [
      "Accuracy of XGB classifier on training set: 0.95\n",
      "Accuracy of XGB classifier on test set: 0.43\n"
     ]
    }
   ],
   "source": [
    "xgb_model = xgb.XGBClassifier(max_depth = 3, min_child_weight=5).fit(X_train, y_train)\n",
    "print('Accuracy of XGB classifier on training set: {:.2f}'\n",
    "       .format(xgb_model.score(X_train, y_train)))\n",
    "print('Accuracy of XGB classifier on test set: {:.2f}'\n",
    "       .format(xgb_model.score(X_test[X_train.columns], y_test)))"
   ]
  },
  {
   "cell_type": "markdown",
   "metadata": {},
   "source": [
    "From model accuracy results, Naive Bayes, Logistic regression, SVC and XGB have the best accuracy in decreasing order. Hyper parameter tuning of the Logistic regression and XGboost increase it's accuracy by a few percentage points which is encouraging."
   ]
  }
 ],
 "metadata": {
  "kernelspec": {
   "display_name": "Python 3",
   "language": "python",
   "name": "python3"
  },
  "language_info": {
   "codemirror_mode": {
    "name": "ipython",
    "version": 3
   },
   "file_extension": ".py",
   "mimetype": "text/x-python",
   "name": "python",
   "nbconvert_exporter": "python",
   "pygments_lexer": "ipython3",
   "version": "3.8.3"
  }
 },
 "nbformat": 4,
 "nbformat_minor": 4
}
